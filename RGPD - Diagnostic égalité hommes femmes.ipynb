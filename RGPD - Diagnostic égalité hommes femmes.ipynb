{
 "cells": [
  {
   "cell_type": "markdown",
   "id": "cf166fc3",
   "metadata": {},
   "source": [
    "<h1><center>RGPD</center></h1>\n",
    "<h2><center>Analyse et diagnostic de l'égalité hommes femmes au sein d'une entreprise</center></h2>\n",
    "\n",
    "\n",
    "### Contexte du projet: \n",
    "Vous êtes un consultatnt data dans un cabinet spécialisé dans la transformationdigitaledes entreprises. Le cabinet compte déjà plus de 150 salariés et est en plein développement. Dans ce contexte économique, le recrutement de consultants expérimentés devient un véritable enjeu stratégique. \n",
    "On fait appel à vous pour aider à **automatiser la création d’un rapport de diagnostique sur l’égalité professionnelle femmes hommes dans l’entreprise afin d’améliorer notre marque employeur et d’attirer plus facilement des talents.** \n",
    "\n",
    "### Objectifs : \n",
    "* Consulter Le site du ministère du Travail qui donne de nombreuses informations pour établir un diagnostic.\n",
    "\n",
    "* Regarder aussi le document de présentation de l’outil Diagnostic Egalité (cf dossier infos brief) dans lequel vous trouverez aussi une liste des indicateurs à surveiller. Pas besoin de tous les extraire, mais dans un premier temps choisir-en au minimum 5 dans la liste que votre workflow devra générer.\n",
    "\n",
    "**/!\\ Attention ,les données issues du SIRH ne sont pas anonymisées, alors il faudralestraiterpour que le rapport respecte le RGPD.**\n",
    "\n",
    "### Livrables attendus: \n",
    "1. Fichier .csv avec les données préparées. \n",
    "2. Présentation ppt avec les choix des axes, les transformations appliquées pour respecter le RGPD\n",
    "\n",
    "#### Bibliographie :\n",
    "\n",
    "1 - https://travail-emploi.gouv.fr/IMG/pdf/guide_egalite_tpe_pme_2021.pdf\n",
    "\n",
    "2 - https://www.cnil.fr/cnil-direct/question/quels-sont-les-grands-principes-des-regles-de-protection-des-donnees?visiteur=part\n"
   ]
  },
  {
   "cell_type": "markdown",
   "id": "154a6e2b",
   "metadata": {},
   "source": [
    "## Librairies et fonctions utiles"
   ]
  },
  {
   "cell_type": "code",
   "execution_count": 1,
   "id": "9bbf5c50",
   "metadata": {},
   "outputs": [],
   "source": [
    "## basic libraries for data analysis\n",
    "import pandas as pd, numpy as np\n",
    "from datetime import date\n",
    "import os\n",
    "\n",
    "## Librairies for data viz\n",
    "import matplotlib.pyplot as plt\n",
    "import seaborn as sns\n",
    "\n",
    "## in case of warnings to not plot with resultst\n",
    "import warnings\n",
    "warnings.filterwarnings(\"ignore\")\n",
    "\n",
    "## Define the palette of colors we want to use\n",
    "%matplotlib inline\n",
    "plt.style.use('seaborn-warm-palette')\n",
    "palette = sns.color_palette(\"Set2\")\n",
    "\n",
    "\n",
    "## requirements as librairies\n",
    "    ## openpyxl to read excel\n",
    "\n",
    "    \n",
    "## librairies needed\n",
    "def age(birthdate):\n",
    "    today = date.today()\n",
    "    age = today.year - birthdate.year - ((today.month, today.day) < (birthdate.month, birthdate.day))\n",
    "    return age\n",
    "\n",
    "def generate_df(df,x,y):\n",
    "    t = pd.DataFrame(df.groupby(x)[y].value_counts())\n",
    "    t.columns=[\"nombre_de_personnes\"]\n",
    "    t.reset_index(inplace=True)\n",
    "    return t\n",
    "\n",
    "\n",
    "def generate_df_mean(df,x,y):\n",
    "    t = pd.DataFrame(df_final.groupby(x)[y].mean())\n",
    "    t.columns=[y+\" moyenne\"]\n",
    "    t.reset_index(inplace=True)\n",
    "    return t"
   ]
  },
  {
   "cell_type": "markdown",
   "id": "ed30de57",
   "metadata": {},
   "source": [
    "## Export Data"
   ]
  },
  {
   "cell_type": "code",
   "execution_count": 5,
   "id": "9e5e6d8f",
   "metadata": {},
   "outputs": [
    {
     "data": {
      "text/plain": [
       "['infos_pro.xlsx', 'remuneration.xlsx', 'salaires.xlsx']"
      ]
     },
     "execution_count": 5,
     "metadata": {},
     "output_type": "execute_result"
    }
   ],
   "source": [
    "## on liste les tables qu'on a à disposition\n",
    "os.listdir('datasets')"
   ]
  },
  {
   "cell_type": "code",
   "execution_count": 7,
   "id": "753ecc05",
   "metadata": {
    "scrolled": true
   },
   "outputs": [
    {
     "data": {
      "text/html": [
       "<div>\n",
       "<style scoped>\n",
       "    .dataframe tbody tr th:only-of-type {\n",
       "        vertical-align: middle;\n",
       "    }\n",
       "\n",
       "    .dataframe tbody tr th {\n",
       "        vertical-align: top;\n",
       "    }\n",
       "\n",
       "    .dataframe thead th {\n",
       "        text-align: right;\n",
       "    }\n",
       "</style>\n",
       "<table border=\"1\" class=\"dataframe\">\n",
       "  <thead>\n",
       "    <tr style=\"text-align: right;\">\n",
       "      <th></th>\n",
       "      <th>id_salarié</th>\n",
       "      <th>Ancienneté_an</th>\n",
       "      <th>Distance domicile/Travail</th>\n",
       "      <th>Service</th>\n",
       "      <th>Work_accident</th>\n",
       "      <th>Niveau de satisfaction</th>\n",
       "    </tr>\n",
       "  </thead>\n",
       "  <tbody>\n",
       "    <tr>\n",
       "      <th>0</th>\n",
       "      <td>16000206-8278</td>\n",
       "      <td>12.6</td>\n",
       "      <td>59</td>\n",
       "      <td>Marketing</td>\n",
       "      <td>Non</td>\n",
       "      <td>67</td>\n",
       "    </tr>\n",
       "    <tr>\n",
       "      <th>1</th>\n",
       "      <td>16011205-0331</td>\n",
       "      <td>11.8</td>\n",
       "      <td>31</td>\n",
       "      <td>Commercial</td>\n",
       "      <td>Oui</td>\n",
       "      <td>66</td>\n",
       "    </tr>\n",
       "    <tr>\n",
       "      <th>2</th>\n",
       "      <td>16020327-1465</td>\n",
       "      <td>11.9</td>\n",
       "      <td>65</td>\n",
       "      <td>RH</td>\n",
       "      <td>Non</td>\n",
       "      <td>59</td>\n",
       "    </tr>\n",
       "    <tr>\n",
       "      <th>3</th>\n",
       "      <td>16020701-3376</td>\n",
       "      <td>10.2</td>\n",
       "      <td>59</td>\n",
       "      <td>Compta Finances</td>\n",
       "      <td>Non</td>\n",
       "      <td>60</td>\n",
       "    </tr>\n",
       "    <tr>\n",
       "      <th>4</th>\n",
       "      <td>16020725-8401</td>\n",
       "      <td>7.9</td>\n",
       "      <td>59</td>\n",
       "      <td>Consultant</td>\n",
       "      <td>Non</td>\n",
       "      <td>34</td>\n",
       "    </tr>\n",
       "    <tr>\n",
       "      <th>...</th>\n",
       "      <td>...</td>\n",
       "      <td>...</td>\n",
       "      <td>...</td>\n",
       "      <td>...</td>\n",
       "      <td>...</td>\n",
       "      <td>...</td>\n",
       "    </tr>\n",
       "    <tr>\n",
       "      <th>251</th>\n",
       "      <td>16960906-7989</td>\n",
       "      <td>3.3</td>\n",
       "      <td>15</td>\n",
       "      <td>R&amp;D</td>\n",
       "      <td>Oui</td>\n",
       "      <td>81</td>\n",
       "    </tr>\n",
       "    <tr>\n",
       "      <th>252</th>\n",
       "      <td>16970415-1050</td>\n",
       "      <td>21.7</td>\n",
       "      <td>59</td>\n",
       "      <td>Consultant</td>\n",
       "      <td>Non</td>\n",
       "      <td>98</td>\n",
       "    </tr>\n",
       "    <tr>\n",
       "      <th>253</th>\n",
       "      <td>16981206-3817</td>\n",
       "      <td>13.0</td>\n",
       "      <td>68</td>\n",
       "      <td>RH</td>\n",
       "      <td>Oui</td>\n",
       "      <td>62</td>\n",
       "    </tr>\n",
       "    <tr>\n",
       "      <th>254</th>\n",
       "      <td>16990414-3527</td>\n",
       "      <td>10.8</td>\n",
       "      <td>32</td>\n",
       "      <td>Consultant</td>\n",
       "      <td>Non</td>\n",
       "      <td>39</td>\n",
       "    </tr>\n",
       "    <tr>\n",
       "      <th>255</th>\n",
       "      <td>16990924-2829</td>\n",
       "      <td>22.5</td>\n",
       "      <td>69</td>\n",
       "      <td>Consultant</td>\n",
       "      <td>Non</td>\n",
       "      <td>60</td>\n",
       "    </tr>\n",
       "  </tbody>\n",
       "</table>\n",
       "<p>256 rows × 6 columns</p>\n",
       "</div>"
      ],
      "text/plain": [
       "        id_salarié  Ancienneté_an  Distance domicile/Travail          Service  \\\n",
       "0    16000206-8278           12.6                         59        Marketing   \n",
       "1    16011205-0331           11.8                         31       Commercial   \n",
       "2    16020327-1465           11.9                         65               RH   \n",
       "3    16020701-3376           10.2                         59  Compta Finances   \n",
       "4    16020725-8401            7.9                         59       Consultant   \n",
       "..             ...            ...                        ...              ...   \n",
       "251  16960906-7989            3.3                         15              R&D   \n",
       "252  16970415-1050           21.7                         59       Consultant   \n",
       "253  16981206-3817           13.0                         68               RH   \n",
       "254  16990414-3527           10.8                         32       Consultant   \n",
       "255  16990924-2829           22.5                         69       Consultant   \n",
       "\n",
       "    Work_accident  Niveau de satisfaction  \n",
       "0             Non                      67  \n",
       "1             Oui                      66  \n",
       "2             Non                      59  \n",
       "3             Non                      60  \n",
       "4             Non                      34  \n",
       "..            ...                     ...  \n",
       "251           Oui                      81  \n",
       "252           Non                      98  \n",
       "253           Oui                      62  \n",
       "254           Non                      39  \n",
       "255           Non                      60  \n",
       "\n",
       "[256 rows x 6 columns]"
      ]
     },
     "execution_count": 7,
     "metadata": {},
     "output_type": "execute_result"
    }
   ],
   "source": [
    "for c in os.listdir('datasets'):\n",
    "    locals()[c.split(\".\")[0]] = pd.read_excel('datasets/'+c)\n",
    "\n",
    "locals()[\"infos_pro\"]"
   ]
  },
  {
   "cell_type": "code",
   "execution_count": 9,
   "id": "610f92a9",
   "metadata": {
    "scrolled": true
   },
   "outputs": [
    {
     "name": "stdout",
     "output_type": "stream",
     "text": [
      "INFORMATIONS ABOUT OUR DATAFRAMES\n",
      "****************\n",
      "infos_pro\n",
      "(256, 6)\n",
      "Index(['id_salarié', 'Ancienneté_an', 'Distance domicile/Travail', 'Service',\n",
      "       'Work_accident', 'Niveau de satisfaction'],\n",
      "      dtype='object')\n",
      " \n",
      "****************\n",
      "remuneration\n",
      "(256, 7)\n",
      "Index(['id_salarié', 'Contrat', 'Durée hebdo', 'Salaire base mensuel',\n",
      "       '%variable_moyen', 'Augmentation', 'Promotion'],\n",
      "      dtype='object')\n",
      " \n",
      "****************\n",
      "salaires\n",
      "(256, 7)\n",
      "Index(['id_salarié', 'Sexe', 'Prénom/Nom', 'Telephone', 'Date_naissance',\n",
      "       'Etat Civil', 'Enfants'],\n",
      "      dtype='object')\n",
      " \n"
     ]
    }
   ],
   "source": [
    "df_names = [c.split(\".\")[0] for c in os.listdir('datasets')]\n",
    "print(\"INFORMATIONS ABOUT OUR DATAFRAMES\")\n",
    "for c in df_names:\n",
    "    print(\"****************\")\n",
    "    print(c)\n",
    "    print(locals()[c].shape)\n",
    "    print(locals()[c].columns)\n",
    "    print(\" \")"
   ]
  },
  {
   "cell_type": "markdown",
   "id": "270cdbbe",
   "metadata": {},
   "source": [
    "On remarque que les 3 tables récapitulent les informations sur 256 salariés : personnelles et professionnelles.\n",
    "\n",
    "Nous allons donc analyser de plus près table par table et voir les actions à mener pour nettoyer la donnée et la rendre rgpd conforme "
   ]
  },
  {
   "cell_type": "markdown",
   "id": "7c8cb9cd",
   "metadata": {},
   "source": [
    "## Analyse"
   ]
  },
  {
   "cell_type": "markdown",
   "id": "07e7dcdc",
   "metadata": {},
   "source": [
    "### Table - informations professionnelles"
   ]
  },
  {
   "cell_type": "code",
   "execution_count": 16,
   "id": "7b1250f8",
   "metadata": {},
   "outputs": [
    {
     "data": {
      "text/html": [
       "<div>\n",
       "<style scoped>\n",
       "    .dataframe tbody tr th:only-of-type {\n",
       "        vertical-align: middle;\n",
       "    }\n",
       "\n",
       "    .dataframe tbody tr th {\n",
       "        vertical-align: top;\n",
       "    }\n",
       "\n",
       "    .dataframe thead th {\n",
       "        text-align: right;\n",
       "    }\n",
       "</style>\n",
       "<table border=\"1\" class=\"dataframe\">\n",
       "  <thead>\n",
       "    <tr style=\"text-align: right;\">\n",
       "      <th></th>\n",
       "      <th>id_salarié</th>\n",
       "      <th>Ancienneté_an</th>\n",
       "      <th>Distance domicile/Travail</th>\n",
       "      <th>Service</th>\n",
       "      <th>Work_accident</th>\n",
       "      <th>Niveau de satisfaction</th>\n",
       "    </tr>\n",
       "  </thead>\n",
       "  <tbody>\n",
       "    <tr>\n",
       "      <th>count</th>\n",
       "      <td>256</td>\n",
       "      <td>256.000000</td>\n",
       "      <td>256.000000</td>\n",
       "      <td>256</td>\n",
       "      <td>256</td>\n",
       "      <td>256.000000</td>\n",
       "    </tr>\n",
       "    <tr>\n",
       "      <th>unique</th>\n",
       "      <td>256</td>\n",
       "      <td>NaN</td>\n",
       "      <td>NaN</td>\n",
       "      <td>6</td>\n",
       "      <td>2</td>\n",
       "      <td>NaN</td>\n",
       "    </tr>\n",
       "    <tr>\n",
       "      <th>top</th>\n",
       "      <td>16000206-8278</td>\n",
       "      <td>NaN</td>\n",
       "      <td>NaN</td>\n",
       "      <td>Consultant</td>\n",
       "      <td>Oui</td>\n",
       "      <td>NaN</td>\n",
       "    </tr>\n",
       "    <tr>\n",
       "      <th>freq</th>\n",
       "      <td>1</td>\n",
       "      <td>NaN</td>\n",
       "      <td>NaN</td>\n",
       "      <td>69</td>\n",
       "      <td>129</td>\n",
       "      <td>NaN</td>\n",
       "    </tr>\n",
       "    <tr>\n",
       "      <th>mean</th>\n",
       "      <td>NaN</td>\n",
       "      <td>13.160938</td>\n",
       "      <td>38.433594</td>\n",
       "      <td>NaN</td>\n",
       "      <td>NaN</td>\n",
       "      <td>50.687500</td>\n",
       "    </tr>\n",
       "    <tr>\n",
       "      <th>std</th>\n",
       "      <td>NaN</td>\n",
       "      <td>7.020684</td>\n",
       "      <td>19.834301</td>\n",
       "      <td>NaN</td>\n",
       "      <td>NaN</td>\n",
       "      <td>27.837413</td>\n",
       "    </tr>\n",
       "    <tr>\n",
       "      <th>min</th>\n",
       "      <td>NaN</td>\n",
       "      <td>0.300000</td>\n",
       "      <td>3.000000</td>\n",
       "      <td>NaN</td>\n",
       "      <td>NaN</td>\n",
       "      <td>1.000000</td>\n",
       "    </tr>\n",
       "    <tr>\n",
       "      <th>25%</th>\n",
       "      <td>NaN</td>\n",
       "      <td>7.375000</td>\n",
       "      <td>22.000000</td>\n",
       "      <td>NaN</td>\n",
       "      <td>NaN</td>\n",
       "      <td>30.000000</td>\n",
       "    </tr>\n",
       "    <tr>\n",
       "      <th>50%</th>\n",
       "      <td>NaN</td>\n",
       "      <td>12.750000</td>\n",
       "      <td>40.500000</td>\n",
       "      <td>NaN</td>\n",
       "      <td>NaN</td>\n",
       "      <td>50.500000</td>\n",
       "    </tr>\n",
       "    <tr>\n",
       "      <th>75%</th>\n",
       "      <td>NaN</td>\n",
       "      <td>19.300000</td>\n",
       "      <td>57.000000</td>\n",
       "      <td>NaN</td>\n",
       "      <td>NaN</td>\n",
       "      <td>73.000000</td>\n",
       "    </tr>\n",
       "    <tr>\n",
       "      <th>max</th>\n",
       "      <td>NaN</td>\n",
       "      <td>25.000000</td>\n",
       "      <td>70.000000</td>\n",
       "      <td>NaN</td>\n",
       "      <td>NaN</td>\n",
       "      <td>100.000000</td>\n",
       "    </tr>\n",
       "  </tbody>\n",
       "</table>\n",
       "</div>"
      ],
      "text/plain": [
       "           id_salarié  Ancienneté_an  Distance domicile/Travail     Service  \\\n",
       "count             256     256.000000                 256.000000         256   \n",
       "unique            256            NaN                        NaN           6   \n",
       "top     16000206-8278            NaN                        NaN  Consultant   \n",
       "freq                1            NaN                        NaN          69   \n",
       "mean              NaN      13.160938                  38.433594         NaN   \n",
       "std               NaN       7.020684                  19.834301         NaN   \n",
       "min               NaN       0.300000                   3.000000         NaN   \n",
       "25%               NaN       7.375000                  22.000000         NaN   \n",
       "50%               NaN      12.750000                  40.500000         NaN   \n",
       "75%               NaN      19.300000                  57.000000         NaN   \n",
       "max               NaN      25.000000                  70.000000         NaN   \n",
       "\n",
       "       Work_accident  Niveau de satisfaction  \n",
       "count            256              256.000000  \n",
       "unique             2                     NaN  \n",
       "top              Oui                     NaN  \n",
       "freq             129                     NaN  \n",
       "mean             NaN               50.687500  \n",
       "std              NaN               27.837413  \n",
       "min              NaN                1.000000  \n",
       "25%              NaN               30.000000  \n",
       "50%              NaN               50.500000  \n",
       "75%              NaN               73.000000  \n",
       "max              NaN              100.000000  "
      ]
     },
     "execution_count": 16,
     "metadata": {},
     "output_type": "execute_result"
    }
   ],
   "source": [
    "infos_pro.describe(include='all')"
   ]
  },
  {
   "cell_type": "code",
   "execution_count": 14,
   "id": "acb56a93",
   "metadata": {},
   "outputs": [
    {
     "data": {
      "text/plain": [
       "id_salarié                   0\n",
       "Ancienneté_an                0\n",
       "Distance domicile/Travail    0\n",
       "Service                      0\n",
       "Work_accident                0\n",
       "Niveau de satisfaction       0\n",
       "dtype: int64"
      ]
     },
     "execution_count": 14,
     "metadata": {},
     "output_type": "execute_result"
    }
   ],
   "source": [
    "infos_pro.isna().sum()\n",
    "    ## Pas de missing values"
   ]
  },
  {
   "cell_type": "code",
   "execution_count": 15,
   "id": "f6712127",
   "metadata": {},
   "outputs": [
    {
     "data": {
      "text/html": [
       "<div>\n",
       "<style scoped>\n",
       "    .dataframe tbody tr th:only-of-type {\n",
       "        vertical-align: middle;\n",
       "    }\n",
       "\n",
       "    .dataframe tbody tr th {\n",
       "        vertical-align: top;\n",
       "    }\n",
       "\n",
       "    .dataframe thead th {\n",
       "        text-align: right;\n",
       "    }\n",
       "</style>\n",
       "<table border=\"1\" class=\"dataframe\">\n",
       "  <thead>\n",
       "    <tr style=\"text-align: right;\">\n",
       "      <th></th>\n",
       "      <th>id_salarié</th>\n",
       "      <th>Ancienneté_an</th>\n",
       "      <th>Distance domicile/Travail</th>\n",
       "      <th>Service</th>\n",
       "      <th>Work_accident</th>\n",
       "      <th>Niveau de satisfaction</th>\n",
       "    </tr>\n",
       "  </thead>\n",
       "  <tbody>\n",
       "    <tr>\n",
       "      <th>0</th>\n",
       "      <td>16000206-8278</td>\n",
       "      <td>12.6</td>\n",
       "      <td>59</td>\n",
       "      <td>Marketing</td>\n",
       "      <td>Non</td>\n",
       "      <td>67</td>\n",
       "    </tr>\n",
       "    <tr>\n",
       "      <th>1</th>\n",
       "      <td>16011205-0331</td>\n",
       "      <td>11.8</td>\n",
       "      <td>31</td>\n",
       "      <td>Commercial</td>\n",
       "      <td>Oui</td>\n",
       "      <td>66</td>\n",
       "    </tr>\n",
       "    <tr>\n",
       "      <th>2</th>\n",
       "      <td>16020327-1465</td>\n",
       "      <td>11.9</td>\n",
       "      <td>65</td>\n",
       "      <td>RH</td>\n",
       "      <td>Non</td>\n",
       "      <td>59</td>\n",
       "    </tr>\n",
       "    <tr>\n",
       "      <th>3</th>\n",
       "      <td>16020701-3376</td>\n",
       "      <td>10.2</td>\n",
       "      <td>59</td>\n",
       "      <td>Compta Finances</td>\n",
       "      <td>Non</td>\n",
       "      <td>60</td>\n",
       "    </tr>\n",
       "    <tr>\n",
       "      <th>4</th>\n",
       "      <td>16020725-8401</td>\n",
       "      <td>7.9</td>\n",
       "      <td>59</td>\n",
       "      <td>Consultant</td>\n",
       "      <td>Non</td>\n",
       "      <td>34</td>\n",
       "    </tr>\n",
       "  </tbody>\n",
       "</table>\n",
       "</div>"
      ],
      "text/plain": [
       "      id_salarié  Ancienneté_an  Distance domicile/Travail          Service  \\\n",
       "0  16000206-8278           12.6                         59        Marketing   \n",
       "1  16011205-0331           11.8                         31       Commercial   \n",
       "2  16020327-1465           11.9                         65               RH   \n",
       "3  16020701-3376           10.2                         59  Compta Finances   \n",
       "4  16020725-8401            7.9                         59       Consultant   \n",
       "\n",
       "  Work_accident  Niveau de satisfaction  \n",
       "0           Non                      67  \n",
       "1           Oui                      66  \n",
       "2           Non                      59  \n",
       "3           Non                      60  \n",
       "4           Non                      34  "
      ]
     },
     "execution_count": 15,
     "metadata": {},
     "output_type": "execute_result"
    }
   ],
   "source": [
    "infos_pro.head(5)"
   ]
  },
  {
   "cell_type": "code",
   "execution_count": 17,
   "id": "68bca642",
   "metadata": {},
   "outputs": [
    {
     "data": {
      "text/plain": [
       "array(['Marketing', 'Commercial', 'RH', 'Compta Finances', 'Consultant',\n",
       "       'R&D'], dtype=object)"
      ]
     },
     "execution_count": 17,
     "metadata": {},
     "output_type": "execute_result"
    }
   ],
   "source": [
    "infos_pro.Service.unique()"
   ]
  },
  {
   "cell_type": "code",
   "execution_count": 48,
   "id": "37c351ad",
   "metadata": {},
   "outputs": [
    {
     "data": {
      "text/plain": [
       "Oui    129\n",
       "Non    127\n",
       "Name: Work_accident, dtype: int64"
      ]
     },
     "execution_count": 48,
     "metadata": {},
     "output_type": "execute_result"
    }
   ],
   "source": [
    "infos_pro.Work_accident.value_counts()"
   ]
  },
  {
   "cell_type": "markdown",
   "id": "497cde69",
   "metadata": {},
   "source": [
    "### Table - rémunération\n",
    "\n",
    "La table récapitule les informations sur le type de contrat de chaque employé, avec le nombre d'heures à faire par semaine, le salaire et les informations complémentaires sur le variable, augmentation & promotion"
   ]
  },
  {
   "cell_type": "code",
   "execution_count": 20,
   "id": "b329f52d",
   "metadata": {
    "scrolled": false
   },
   "outputs": [
    {
     "data": {
      "text/html": [
       "<div>\n",
       "<style scoped>\n",
       "    .dataframe tbody tr th:only-of-type {\n",
       "        vertical-align: middle;\n",
       "    }\n",
       "\n",
       "    .dataframe tbody tr th {\n",
       "        vertical-align: top;\n",
       "    }\n",
       "\n",
       "    .dataframe thead th {\n",
       "        text-align: right;\n",
       "    }\n",
       "</style>\n",
       "<table border=\"1\" class=\"dataframe\">\n",
       "  <thead>\n",
       "    <tr style=\"text-align: right;\">\n",
       "      <th></th>\n",
       "      <th>id_salarié</th>\n",
       "      <th>Contrat</th>\n",
       "      <th>Durée hebdo</th>\n",
       "      <th>Salaire base mensuel</th>\n",
       "      <th>%variable_moyen</th>\n",
       "      <th>Augmentation</th>\n",
       "      <th>Promotion</th>\n",
       "    </tr>\n",
       "  </thead>\n",
       "  <tbody>\n",
       "    <tr>\n",
       "      <th>0</th>\n",
       "      <td>16990924-2829</td>\n",
       "      <td>CDI</td>\n",
       "      <td>35.0</td>\n",
       "      <td>9873.5000</td>\n",
       "      <td>13.0</td>\n",
       "      <td>0.0</td>\n",
       "      <td>0.0</td>\n",
       "    </tr>\n",
       "    <tr>\n",
       "      <th>1</th>\n",
       "      <td>16990414-3527</td>\n",
       "      <td>CDI</td>\n",
       "      <td>35.0</td>\n",
       "      <td>4296.7167</td>\n",
       "      <td>39.0</td>\n",
       "      <td>0.0</td>\n",
       "      <td>1.0</td>\n",
       "    </tr>\n",
       "    <tr>\n",
       "      <th>2</th>\n",
       "      <td>16981206-3817</td>\n",
       "      <td>CDI</td>\n",
       "      <td>35.0</td>\n",
       "      <td>3705.2167</td>\n",
       "      <td>29.0</td>\n",
       "      <td>1.0</td>\n",
       "      <td>1.0</td>\n",
       "    </tr>\n",
       "    <tr>\n",
       "      <th>3</th>\n",
       "      <td>16970415-1050</td>\n",
       "      <td>CDI</td>\n",
       "      <td>35.0</td>\n",
       "      <td>1697.1500</td>\n",
       "      <td>17.0</td>\n",
       "      <td>1.0</td>\n",
       "      <td>0.0</td>\n",
       "    </tr>\n",
       "    <tr>\n",
       "      <th>4</th>\n",
       "      <td>16960906-7989</td>\n",
       "      <td>CDD</td>\n",
       "      <td>35.0</td>\n",
       "      <td>2848.3000</td>\n",
       "      <td>15.0</td>\n",
       "      <td>1.0</td>\n",
       "      <td>0.0</td>\n",
       "    </tr>\n",
       "  </tbody>\n",
       "</table>\n",
       "</div>"
      ],
      "text/plain": [
       "      id_salarié Contrat  Durée hebdo  Salaire base mensuel  %variable_moyen  \\\n",
       "0  16990924-2829     CDI         35.0             9873.5000             13.0   \n",
       "1  16990414-3527     CDI         35.0             4296.7167             39.0   \n",
       "2  16981206-3817     CDI         35.0             3705.2167             29.0   \n",
       "3  16970415-1050     CDI         35.0             1697.1500             17.0   \n",
       "4  16960906-7989     CDD         35.0             2848.3000             15.0   \n",
       "\n",
       "   Augmentation  Promotion  \n",
       "0           0.0        0.0  \n",
       "1           0.0        1.0  \n",
       "2           1.0        1.0  \n",
       "3           1.0        0.0  \n",
       "4           1.0        0.0  "
      ]
     },
     "execution_count": 20,
     "metadata": {},
     "output_type": "execute_result"
    }
   ],
   "source": [
    "remuneration.head(5)"
   ]
  },
  {
   "cell_type": "code",
   "execution_count": 21,
   "id": "44e08513",
   "metadata": {},
   "outputs": [
    {
     "data": {
      "text/html": [
       "<div>\n",
       "<style scoped>\n",
       "    .dataframe tbody tr th:only-of-type {\n",
       "        vertical-align: middle;\n",
       "    }\n",
       "\n",
       "    .dataframe tbody tr th {\n",
       "        vertical-align: top;\n",
       "    }\n",
       "\n",
       "    .dataframe thead th {\n",
       "        text-align: right;\n",
       "    }\n",
       "</style>\n",
       "<table border=\"1\" class=\"dataframe\">\n",
       "  <thead>\n",
       "    <tr style=\"text-align: right;\">\n",
       "      <th></th>\n",
       "      <th>id_salarié</th>\n",
       "      <th>Contrat</th>\n",
       "      <th>Durée hebdo</th>\n",
       "      <th>Salaire base mensuel</th>\n",
       "      <th>%variable_moyen</th>\n",
       "      <th>Augmentation</th>\n",
       "      <th>Promotion</th>\n",
       "    </tr>\n",
       "  </thead>\n",
       "  <tbody>\n",
       "    <tr>\n",
       "      <th>count</th>\n",
       "      <td>256</td>\n",
       "      <td>256</td>\n",
       "      <td>256.000000</td>\n",
       "      <td>256.000000</td>\n",
       "      <td>256.000000</td>\n",
       "      <td>241.000000</td>\n",
       "      <td>241.000000</td>\n",
       "    </tr>\n",
       "    <tr>\n",
       "      <th>unique</th>\n",
       "      <td>256</td>\n",
       "      <td>2</td>\n",
       "      <td>NaN</td>\n",
       "      <td>NaN</td>\n",
       "      <td>NaN</td>\n",
       "      <td>NaN</td>\n",
       "      <td>NaN</td>\n",
       "    </tr>\n",
       "    <tr>\n",
       "      <th>top</th>\n",
       "      <td>16990924-2829</td>\n",
       "      <td>CDI</td>\n",
       "      <td>NaN</td>\n",
       "      <td>NaN</td>\n",
       "      <td>NaN</td>\n",
       "      <td>NaN</td>\n",
       "      <td>NaN</td>\n",
       "    </tr>\n",
       "    <tr>\n",
       "      <th>freq</th>\n",
       "      <td>1</td>\n",
       "      <td>240</td>\n",
       "      <td>NaN</td>\n",
       "      <td>NaN</td>\n",
       "      <td>NaN</td>\n",
       "      <td>NaN</td>\n",
       "      <td>NaN</td>\n",
       "    </tr>\n",
       "    <tr>\n",
       "      <th>mean</th>\n",
       "      <td>NaN</td>\n",
       "      <td>NaN</td>\n",
       "      <td>33.871094</td>\n",
       "      <td>5326.530626</td>\n",
       "      <td>20.027344</td>\n",
       "      <td>0.518672</td>\n",
       "      <td>0.518672</td>\n",
       "    </tr>\n",
       "    <tr>\n",
       "      <th>std</th>\n",
       "      <td>NaN</td>\n",
       "      <td>NaN</td>\n",
       "      <td>3.203397</td>\n",
       "      <td>2505.493530</td>\n",
       "      <td>11.529809</td>\n",
       "      <td>0.500691</td>\n",
       "      <td>0.500691</td>\n",
       "    </tr>\n",
       "    <tr>\n",
       "      <th>min</th>\n",
       "      <td>NaN</td>\n",
       "      <td>NaN</td>\n",
       "      <td>24.000000</td>\n",
       "      <td>1059.760000</td>\n",
       "      <td>0.000000</td>\n",
       "      <td>0.000000</td>\n",
       "      <td>0.000000</td>\n",
       "    </tr>\n",
       "    <tr>\n",
       "      <th>25%</th>\n",
       "      <td>NaN</td>\n",
       "      <td>NaN</td>\n",
       "      <td>35.000000</td>\n",
       "      <td>3111.918325</td>\n",
       "      <td>10.000000</td>\n",
       "      <td>0.000000</td>\n",
       "      <td>0.000000</td>\n",
       "    </tr>\n",
       "    <tr>\n",
       "      <th>50%</th>\n",
       "      <td>NaN</td>\n",
       "      <td>NaN</td>\n",
       "      <td>35.000000</td>\n",
       "      <td>5084.625000</td>\n",
       "      <td>19.000000</td>\n",
       "      <td>1.000000</td>\n",
       "      <td>1.000000</td>\n",
       "    </tr>\n",
       "    <tr>\n",
       "      <th>75%</th>\n",
       "      <td>NaN</td>\n",
       "      <td>NaN</td>\n",
       "      <td>35.000000</td>\n",
       "      <td>7407.020850</td>\n",
       "      <td>30.000000</td>\n",
       "      <td>1.000000</td>\n",
       "      <td>1.000000</td>\n",
       "    </tr>\n",
       "    <tr>\n",
       "      <th>max</th>\n",
       "      <td>NaN</td>\n",
       "      <td>NaN</td>\n",
       "      <td>35.000000</td>\n",
       "      <td>9999.383300</td>\n",
       "      <td>40.000000</td>\n",
       "      <td>1.000000</td>\n",
       "      <td>1.000000</td>\n",
       "    </tr>\n",
       "  </tbody>\n",
       "</table>\n",
       "</div>"
      ],
      "text/plain": [
       "           id_salarié Contrat  Durée hebdo  Salaire base mensuel  \\\n",
       "count             256     256   256.000000            256.000000   \n",
       "unique            256       2          NaN                   NaN   \n",
       "top     16990924-2829     CDI          NaN                   NaN   \n",
       "freq                1     240          NaN                   NaN   \n",
       "mean              NaN     NaN    33.871094           5326.530626   \n",
       "std               NaN     NaN     3.203397           2505.493530   \n",
       "min               NaN     NaN    24.000000           1059.760000   \n",
       "25%               NaN     NaN    35.000000           3111.918325   \n",
       "50%               NaN     NaN    35.000000           5084.625000   \n",
       "75%               NaN     NaN    35.000000           7407.020850   \n",
       "max               NaN     NaN    35.000000           9999.383300   \n",
       "\n",
       "        %variable_moyen  Augmentation   Promotion  \n",
       "count        256.000000    241.000000  241.000000  \n",
       "unique              NaN           NaN         NaN  \n",
       "top                 NaN           NaN         NaN  \n",
       "freq                NaN           NaN         NaN  \n",
       "mean          20.027344      0.518672    0.518672  \n",
       "std           11.529809      0.500691    0.500691  \n",
       "min            0.000000      0.000000    0.000000  \n",
       "25%           10.000000      0.000000    0.000000  \n",
       "50%           19.000000      1.000000    1.000000  \n",
       "75%           30.000000      1.000000    1.000000  \n",
       "max           40.000000      1.000000    1.000000  "
      ]
     },
     "execution_count": 21,
     "metadata": {},
     "output_type": "execute_result"
    }
   ],
   "source": [
    "remuneration.describe(include='all')"
   ]
  },
  {
   "cell_type": "code",
   "execution_count": 22,
   "id": "12254e37",
   "metadata": {},
   "outputs": [
    {
     "data": {
      "text/plain": [
       "id_salarié               0\n",
       "Contrat                  0\n",
       "Durée hebdo              0\n",
       "Salaire base mensuel     0\n",
       "%variable_moyen          0\n",
       "Augmentation            15\n",
       "Promotion               15\n",
       "dtype: int64"
      ]
     },
     "execution_count": 22,
     "metadata": {},
     "output_type": "execute_result"
    }
   ],
   "source": [
    "remuneration.isna().sum()\n",
    "    ## quelques missing values 15/256"
   ]
  },
  {
   "cell_type": "code",
   "execution_count": 23,
   "id": "f4cec7f2",
   "metadata": {},
   "outputs": [
    {
     "data": {
      "text/plain": [
       "array([35., 24., 32., 28.])"
      ]
     },
     "execution_count": 23,
     "metadata": {},
     "output_type": "execute_result"
    }
   ],
   "source": [
    "remuneration[\"Durée hebdo\"].unique()"
   ]
  },
  {
   "cell_type": "code",
   "execution_count": 24,
   "id": "0dd013e4",
   "metadata": {
    "scrolled": true
   },
   "outputs": [
    {
     "data": {
      "text/plain": [
       "Contrat\n",
       "CDD                [35.0, 32.0]\n",
       "CDI    [35.0, 24.0, 28.0, 32.0]\n",
       "Name: Durée hebdo, dtype: object"
      ]
     },
     "execution_count": 24,
     "metadata": {},
     "output_type": "execute_result"
    }
   ],
   "source": [
    "remuneration.groupby(\"Contrat\")[\"Durée hebdo\"].unique()"
   ]
  },
  {
   "cell_type": "markdown",
   "id": "1a616b6b",
   "metadata": {},
   "source": [
    "### Table - Salaires\n",
    "\n",
    "Cette table \"Salarié\" récapitule les informations personnelles et sensible sur le client."
   ]
  },
  {
   "cell_type": "code",
   "execution_count": 26,
   "id": "c88fc047",
   "metadata": {},
   "outputs": [
    {
     "data": {
      "text/html": [
       "<div>\n",
       "<style scoped>\n",
       "    .dataframe tbody tr th:only-of-type {\n",
       "        vertical-align: middle;\n",
       "    }\n",
       "\n",
       "    .dataframe tbody tr th {\n",
       "        vertical-align: top;\n",
       "    }\n",
       "\n",
       "    .dataframe thead th {\n",
       "        text-align: right;\n",
       "    }\n",
       "</style>\n",
       "<table border=\"1\" class=\"dataframe\">\n",
       "  <thead>\n",
       "    <tr style=\"text-align: right;\">\n",
       "      <th></th>\n",
       "      <th>id_salarié</th>\n",
       "      <th>Sexe</th>\n",
       "      <th>Prénom/Nom</th>\n",
       "      <th>Telephone</th>\n",
       "      <th>Date_naissance</th>\n",
       "      <th>Etat Civil</th>\n",
       "      <th>Enfants</th>\n",
       "    </tr>\n",
       "  </thead>\n",
       "  <tbody>\n",
       "    <tr>\n",
       "      <th>0</th>\n",
       "      <td>16920105-1209</td>\n",
       "      <td>F</td>\n",
       "      <td>Solenne Delannoy</td>\n",
       "      <td>607958599</td>\n",
       "      <td>1955-07-07</td>\n",
       "      <td>Célibataire</td>\n",
       "      <td>1</td>\n",
       "    </tr>\n",
       "    <tr>\n",
       "      <th>1</th>\n",
       "      <td>16661123-8764</td>\n",
       "      <td>H</td>\n",
       "      <td>Nicolas Jaccoud</td>\n",
       "      <td>660029842</td>\n",
       "      <td>1970-09-22</td>\n",
       "      <td>Célibataire</td>\n",
       "      <td>3</td>\n",
       "    </tr>\n",
       "    <tr>\n",
       "      <th>2</th>\n",
       "      <td>16230718-4297</td>\n",
       "      <td>F</td>\n",
       "      <td>Alexandra Auguste</td>\n",
       "      <td>629910592</td>\n",
       "      <td>1965-03-01</td>\n",
       "      <td>Marié</td>\n",
       "      <td>1</td>\n",
       "    </tr>\n",
       "    <tr>\n",
       "      <th>3</th>\n",
       "      <td>16130305-6954</td>\n",
       "      <td>F</td>\n",
       "      <td>Marie-Claire Besnard</td>\n",
       "      <td>685888970</td>\n",
       "      <td>1963-09-02</td>\n",
       "      <td>NaN</td>\n",
       "      <td>1</td>\n",
       "    </tr>\n",
       "    <tr>\n",
       "      <th>4</th>\n",
       "      <td>16360125-5924</td>\n",
       "      <td>F</td>\n",
       "      <td>Marie Berengar</td>\n",
       "      <td>624840475</td>\n",
       "      <td>1959-04-02</td>\n",
       "      <td>Marié</td>\n",
       "      <td>3</td>\n",
       "    </tr>\n",
       "  </tbody>\n",
       "</table>\n",
       "</div>"
      ],
      "text/plain": [
       "      id_salarié Sexe            Prénom/Nom  Telephone Date_naissance  \\\n",
       "0  16920105-1209    F      Solenne Delannoy  607958599     1955-07-07   \n",
       "1  16661123-8764    H       Nicolas Jaccoud  660029842     1970-09-22   \n",
       "2  16230718-4297    F     Alexandra Auguste  629910592     1965-03-01   \n",
       "3  16130305-6954    F  Marie-Claire Besnard  685888970     1963-09-02   \n",
       "4  16360125-5924    F        Marie Berengar  624840475     1959-04-02   \n",
       "\n",
       "    Etat Civil  Enfants  \n",
       "0  Célibataire        1  \n",
       "1  Célibataire        3  \n",
       "2        Marié        1  \n",
       "3          NaN        1  \n",
       "4        Marié        3  "
      ]
     },
     "execution_count": 26,
     "metadata": {},
     "output_type": "execute_result"
    }
   ],
   "source": [
    "salaires.head(5)"
   ]
  },
  {
   "cell_type": "code",
   "execution_count": 8,
   "id": "861be562",
   "metadata": {
    "scrolled": true
   },
   "outputs": [
    {
     "data": {
      "text/html": [
       "<div>\n",
       "<style scoped>\n",
       "    .dataframe tbody tr th:only-of-type {\n",
       "        vertical-align: middle;\n",
       "    }\n",
       "\n",
       "    .dataframe tbody tr th {\n",
       "        vertical-align: top;\n",
       "    }\n",
       "\n",
       "    .dataframe thead th {\n",
       "        text-align: right;\n",
       "    }\n",
       "</style>\n",
       "<table border=\"1\" class=\"dataframe\">\n",
       "  <thead>\n",
       "    <tr style=\"text-align: right;\">\n",
       "      <th></th>\n",
       "      <th>id_salarié</th>\n",
       "      <th>Sexe</th>\n",
       "      <th>Prénom/Nom</th>\n",
       "      <th>Telephone</th>\n",
       "      <th>Date_naissance</th>\n",
       "      <th>Etat Civil</th>\n",
       "      <th>Enfants</th>\n",
       "    </tr>\n",
       "  </thead>\n",
       "  <tbody>\n",
       "    <tr>\n",
       "      <th>count</th>\n",
       "      <td>256</td>\n",
       "      <td>256</td>\n",
       "      <td>256</td>\n",
       "      <td>2.560000e+02</td>\n",
       "      <td>256</td>\n",
       "      <td>174</td>\n",
       "      <td>256.000000</td>\n",
       "    </tr>\n",
       "    <tr>\n",
       "      <th>unique</th>\n",
       "      <td>256</td>\n",
       "      <td>2</td>\n",
       "      <td>256</td>\n",
       "      <td>NaN</td>\n",
       "      <td>252</td>\n",
       "      <td>2</td>\n",
       "      <td>NaN</td>\n",
       "    </tr>\n",
       "    <tr>\n",
       "      <th>top</th>\n",
       "      <td>16211102-1297</td>\n",
       "      <td>H</td>\n",
       "      <td>Norbert Reverdin</td>\n",
       "      <td>NaN</td>\n",
       "      <td>1963-10-25 00:00:00</td>\n",
       "      <td>Marié</td>\n",
       "      <td>NaN</td>\n",
       "    </tr>\n",
       "    <tr>\n",
       "      <th>freq</th>\n",
       "      <td>1</td>\n",
       "      <td>131</td>\n",
       "      <td>1</td>\n",
       "      <td>NaN</td>\n",
       "      <td>2</td>\n",
       "      <td>92</td>\n",
       "      <td>NaN</td>\n",
       "    </tr>\n",
       "    <tr>\n",
       "      <th>first</th>\n",
       "      <td>NaN</td>\n",
       "      <td>NaN</td>\n",
       "      <td>NaN</td>\n",
       "      <td>NaN</td>\n",
       "      <td>1954-12-07 00:00:00</td>\n",
       "      <td>NaN</td>\n",
       "      <td>NaN</td>\n",
       "    </tr>\n",
       "    <tr>\n",
       "      <th>last</th>\n",
       "      <td>NaN</td>\n",
       "      <td>NaN</td>\n",
       "      <td>NaN</td>\n",
       "      <td>NaN</td>\n",
       "      <td>1991-01-30 00:00:00</td>\n",
       "      <td>NaN</td>\n",
       "      <td>NaN</td>\n",
       "    </tr>\n",
       "    <tr>\n",
       "      <th>mean</th>\n",
       "      <td>NaN</td>\n",
       "      <td>NaN</td>\n",
       "      <td>NaN</td>\n",
       "      <td>6.511928e+08</td>\n",
       "      <td>NaN</td>\n",
       "      <td>NaN</td>\n",
       "      <td>1.460938</td>\n",
       "    </tr>\n",
       "    <tr>\n",
       "      <th>std</th>\n",
       "      <td>NaN</td>\n",
       "      <td>NaN</td>\n",
       "      <td>NaN</td>\n",
       "      <td>2.915357e+07</td>\n",
       "      <td>NaN</td>\n",
       "      <td>NaN</td>\n",
       "      <td>1.123038</td>\n",
       "    </tr>\n",
       "    <tr>\n",
       "      <th>min</th>\n",
       "      <td>NaN</td>\n",
       "      <td>NaN</td>\n",
       "      <td>NaN</td>\n",
       "      <td>6.003126e+08</td>\n",
       "      <td>NaN</td>\n",
       "      <td>NaN</td>\n",
       "      <td>0.000000</td>\n",
       "    </tr>\n",
       "    <tr>\n",
       "      <th>25%</th>\n",
       "      <td>NaN</td>\n",
       "      <td>NaN</td>\n",
       "      <td>NaN</td>\n",
       "      <td>6.251080e+08</td>\n",
       "      <td>NaN</td>\n",
       "      <td>NaN</td>\n",
       "      <td>0.000000</td>\n",
       "    </tr>\n",
       "    <tr>\n",
       "      <th>50%</th>\n",
       "      <td>NaN</td>\n",
       "      <td>NaN</td>\n",
       "      <td>NaN</td>\n",
       "      <td>6.514391e+08</td>\n",
       "      <td>NaN</td>\n",
       "      <td>NaN</td>\n",
       "      <td>1.000000</td>\n",
       "    </tr>\n",
       "    <tr>\n",
       "      <th>75%</th>\n",
       "      <td>NaN</td>\n",
       "      <td>NaN</td>\n",
       "      <td>NaN</td>\n",
       "      <td>6.783984e+08</td>\n",
       "      <td>NaN</td>\n",
       "      <td>NaN</td>\n",
       "      <td>2.000000</td>\n",
       "    </tr>\n",
       "    <tr>\n",
       "      <th>max</th>\n",
       "      <td>NaN</td>\n",
       "      <td>NaN</td>\n",
       "      <td>NaN</td>\n",
       "      <td>6.991239e+08</td>\n",
       "      <td>NaN</td>\n",
       "      <td>NaN</td>\n",
       "      <td>3.000000</td>\n",
       "    </tr>\n",
       "  </tbody>\n",
       "</table>\n",
       "</div>"
      ],
      "text/plain": [
       "           id_salarié Sexe        Prénom/Nom     Telephone  \\\n",
       "count             256  256               256  2.560000e+02   \n",
       "unique            256    2               256           NaN   \n",
       "top     16211102-1297    H  Norbert Reverdin           NaN   \n",
       "freq                1  131                 1           NaN   \n",
       "first             NaN  NaN               NaN           NaN   \n",
       "last              NaN  NaN               NaN           NaN   \n",
       "mean              NaN  NaN               NaN  6.511928e+08   \n",
       "std               NaN  NaN               NaN  2.915357e+07   \n",
       "min               NaN  NaN               NaN  6.003126e+08   \n",
       "25%               NaN  NaN               NaN  6.251080e+08   \n",
       "50%               NaN  NaN               NaN  6.514391e+08   \n",
       "75%               NaN  NaN               NaN  6.783984e+08   \n",
       "max               NaN  NaN               NaN  6.991239e+08   \n",
       "\n",
       "             Date_naissance Etat Civil     Enfants  \n",
       "count                   256        174  256.000000  \n",
       "unique                  252          2         NaN  \n",
       "top     1963-10-25 00:00:00      Marié         NaN  \n",
       "freq                      2         92         NaN  \n",
       "first   1954-12-07 00:00:00        NaN         NaN  \n",
       "last    1991-01-30 00:00:00        NaN         NaN  \n",
       "mean                    NaN        NaN    1.460938  \n",
       "std                     NaN        NaN    1.123038  \n",
       "min                     NaN        NaN    0.000000  \n",
       "25%                     NaN        NaN    0.000000  \n",
       "50%                     NaN        NaN    1.000000  \n",
       "75%                     NaN        NaN    2.000000  \n",
       "max                     NaN        NaN    3.000000  "
      ]
     },
     "execution_count": 8,
     "metadata": {},
     "output_type": "execute_result"
    }
   ],
   "source": [
    "salaires.describe(include='all')"
   ]
  },
  {
   "cell_type": "code",
   "execution_count": 29,
   "id": "0f7843dc",
   "metadata": {},
   "outputs": [
    {
     "data": {
      "text/plain": [
       "id_salarié         0\n",
       "Sexe               0\n",
       "Prénom/Nom         0\n",
       "Telephone          0\n",
       "Date_naissance     0\n",
       "Etat Civil        82\n",
       "Enfants            0\n",
       "dtype: int64"
      ]
     },
     "execution_count": 29,
     "metadata": {},
     "output_type": "execute_result"
    }
   ],
   "source": [
    "salaires.isna().sum()\n",
    "## missing values pour l'état civil"
   ]
  },
  {
   "cell_type": "code",
   "execution_count": 31,
   "id": "5642d215",
   "metadata": {},
   "outputs": [
    {
     "data": {
      "text/plain": [
       "H    131\n",
       "F    125\n",
       "Name: Sexe, dtype: int64"
      ]
     },
     "execution_count": 31,
     "metadata": {},
     "output_type": "execute_result"
    }
   ],
   "source": [
    "salaires.Sexe.value_counts()"
   ]
  },
  {
   "cell_type": "code",
   "execution_count": 32,
   "id": "8162c3ae",
   "metadata": {
    "scrolled": true
   },
   "outputs": [
    {
     "data": {
      "text/plain": [
       "1    69\n",
       "0    66\n",
       "3    63\n",
       "2    58\n",
       "Name: Enfants, dtype: int64"
      ]
     },
     "execution_count": 32,
     "metadata": {},
     "output_type": "execute_result"
    }
   ],
   "source": [
    "salaires.Enfants.value_counts()"
   ]
  },
  {
   "cell_type": "code",
   "execution_count": 45,
   "id": "40d75d3c",
   "metadata": {},
   "outputs": [
    {
     "data": {
      "text/plain": [
       "Marié          92\n",
       "Célibataire    82\n",
       "Name: Etat Civil, dtype: int64"
      ]
     },
     "execution_count": 45,
     "metadata": {},
     "output_type": "execute_result"
    }
   ],
   "source": [
    "salaires[\"Etat Civil\"].value_counts()"
   ]
  },
  {
   "cell_type": "markdown",
   "id": "d5821a23",
   "metadata": {},
   "source": [
    "## Construction de la table finale avec traitements nécessaires\n",
    "\n",
    "Le but de cette partie est de créer une table commune au 3 analysés et de traiter les données sensibles"
   ]
  },
  {
   "cell_type": "code",
   "execution_count": 34,
   "id": "62899714",
   "metadata": {
    "scrolled": true
   },
   "outputs": [
    {
     "data": {
      "text/plain": [
       "['infos_pro', 'remuneration', 'salaires']"
      ]
     },
     "execution_count": 34,
     "metadata": {},
     "output_type": "execute_result"
    }
   ],
   "source": [
    "df_names"
   ]
  },
  {
   "cell_type": "code",
   "execution_count": 35,
   "id": "6f538168",
   "metadata": {
    "scrolled": true
   },
   "outputs": [
    {
     "data": {
      "text/plain": [
       "Index(['id_salarié', 'Ancienneté_an', 'Distance domicile/Travail', 'Service',\n",
       "       'Work_accident', 'Niveau de satisfaction'],\n",
       "      dtype='object')"
      ]
     },
     "execution_count": 35,
     "metadata": {},
     "output_type": "execute_result"
    }
   ],
   "source": [
    "infos_pro.columns"
   ]
  },
  {
   "cell_type": "markdown",
   "id": "adb02dbb",
   "metadata": {},
   "source": [
    "#### 1 - On compte les identifiants distincts par table"
   ]
  },
  {
   "cell_type": "code",
   "execution_count": 40,
   "id": "e3840601",
   "metadata": {
    "scrolled": false
   },
   "outputs": [
    {
     "name": "stdout",
     "output_type": "stream",
     "text": [
      "*************\n",
      "Nombre d'ids distincts dans la table infos_pro est : 256\n",
      "*************\n",
      "Nombre d'ids distincts dans la table remuneration est : 256\n",
      "*************\n",
      "Nombre d'ids distincts dans la table salaires est : 256\n"
     ]
    }
   ],
   "source": [
    "for c in df_names:\n",
    "    print(\"*************\")\n",
    "    print(\"Nombre d'ids distincts dans la table \"+ c + \" est : \"+ str(len(locals()[c][\"id_salarié\"].unique())))"
   ]
  },
  {
   "cell_type": "markdown",
   "id": "c3328ff1",
   "metadata": {},
   "source": [
    "#### 2 - Vérification de l'identifiant client\n",
    "Le but est de vérifier qu'il n'y a pas d'écarts sur l'id des clients sur les 3 tables"
   ]
  },
  {
   "cell_type": "code",
   "execution_count": 42,
   "id": "b0671db2",
   "metadata": {},
   "outputs": [
    {
     "data": {
      "text/plain": [
       "256"
      ]
     },
     "execution_count": 42,
     "metadata": {},
     "output_type": "execute_result"
    }
   ],
   "source": [
    "## intersection des 3 listes des id clients provenants des 3 tables\n",
    "len(list(set(infos_pro[\"id_salarié\"]) & set(remuneration[\"id_salarié\"]) & set(salaires[\"id_salarié\"])))"
   ]
  },
  {
   "cell_type": "markdown",
   "id": "06deb723",
   "metadata": {},
   "source": [
    "On peut conclure que les mêmes identifiants existent bien dans toutes les tables"
   ]
  },
  {
   "cell_type": "code",
   "execution_count": 9,
   "id": "2b719fa2",
   "metadata": {},
   "outputs": [
    {
     "data": {
      "text/html": [
       "<div>\n",
       "<style scoped>\n",
       "    .dataframe tbody tr th:only-of-type {\n",
       "        vertical-align: middle;\n",
       "    }\n",
       "\n",
       "    .dataframe tbody tr th {\n",
       "        vertical-align: top;\n",
       "    }\n",
       "\n",
       "    .dataframe thead th {\n",
       "        text-align: right;\n",
       "    }\n",
       "</style>\n",
       "<table border=\"1\" class=\"dataframe\">\n",
       "  <thead>\n",
       "    <tr style=\"text-align: right;\">\n",
       "      <th></th>\n",
       "      <th>id_salarié</th>\n",
       "      <th>Sexe</th>\n",
       "      <th>Prénom/Nom</th>\n",
       "      <th>Telephone</th>\n",
       "      <th>Date_naissance</th>\n",
       "      <th>Etat Civil</th>\n",
       "      <th>Enfants</th>\n",
       "      <th>Ancienneté_an</th>\n",
       "      <th>Distance domicile/Travail</th>\n",
       "      <th>Service</th>\n",
       "      <th>...</th>\n",
       "      <th>Unnamed: 16</th>\n",
       "      <th>Unnamed: 17</th>\n",
       "      <th>Unnamed: 18</th>\n",
       "      <th>Unnamed: 19</th>\n",
       "      <th>Unnamed: 20</th>\n",
       "      <th>Unnamed: 21</th>\n",
       "      <th>Unnamed: 22</th>\n",
       "      <th>Unnamed: 23</th>\n",
       "      <th>Unnamed: 24</th>\n",
       "      <th>Unnamed: 25</th>\n",
       "    </tr>\n",
       "  </thead>\n",
       "  <tbody>\n",
       "    <tr>\n",
       "      <th>0</th>\n",
       "      <td>16920105-1209</td>\n",
       "      <td>F</td>\n",
       "      <td>Solenne Delannoy</td>\n",
       "      <td>607958599</td>\n",
       "      <td>1955-07-07</td>\n",
       "      <td>Célibataire</td>\n",
       "      <td>1</td>\n",
       "      <td>25.0</td>\n",
       "      <td>58</td>\n",
       "      <td>Consultant</td>\n",
       "      <td>...</td>\n",
       "      <td>NaN</td>\n",
       "      <td>NaN</td>\n",
       "      <td>NaN</td>\n",
       "      <td>NaN</td>\n",
       "      <td>NaN</td>\n",
       "      <td>NaN</td>\n",
       "      <td>NaN</td>\n",
       "      <td>NaN</td>\n",
       "      <td>NaN</td>\n",
       "      <td>NaN</td>\n",
       "    </tr>\n",
       "    <tr>\n",
       "      <th>1</th>\n",
       "      <td>16661123-8764</td>\n",
       "      <td>H</td>\n",
       "      <td>Nicolas Jaccoud</td>\n",
       "      <td>660029842</td>\n",
       "      <td>1970-09-22</td>\n",
       "      <td>Célibataire</td>\n",
       "      <td>3</td>\n",
       "      <td>24.9</td>\n",
       "      <td>62</td>\n",
       "      <td>Commercial</td>\n",
       "      <td>...</td>\n",
       "      <td>NaN</td>\n",
       "      <td>NaN</td>\n",
       "      <td>NaN</td>\n",
       "      <td>NaN</td>\n",
       "      <td>NaN</td>\n",
       "      <td>NaN</td>\n",
       "      <td>NaN</td>\n",
       "      <td>NaN</td>\n",
       "      <td>NaN</td>\n",
       "      <td>NaN</td>\n",
       "    </tr>\n",
       "    <tr>\n",
       "      <th>2</th>\n",
       "      <td>16230718-4297</td>\n",
       "      <td>F</td>\n",
       "      <td>Alexandra Auguste</td>\n",
       "      <td>629910592</td>\n",
       "      <td>1965-03-01</td>\n",
       "      <td>Marié</td>\n",
       "      <td>1</td>\n",
       "      <td>24.8</td>\n",
       "      <td>44</td>\n",
       "      <td>Compta Finances</td>\n",
       "      <td>...</td>\n",
       "      <td>NaN</td>\n",
       "      <td>NaN</td>\n",
       "      <td>NaN</td>\n",
       "      <td>NaN</td>\n",
       "      <td>NaN</td>\n",
       "      <td>NaN</td>\n",
       "      <td>NaN</td>\n",
       "      <td>NaN</td>\n",
       "      <td>NaN</td>\n",
       "      <td>NaN</td>\n",
       "    </tr>\n",
       "    <tr>\n",
       "      <th>3</th>\n",
       "      <td>16130305-6954</td>\n",
       "      <td>F</td>\n",
       "      <td>Marie-Claire Besnard</td>\n",
       "      <td>685888970</td>\n",
       "      <td>1963-09-02</td>\n",
       "      <td>NaN</td>\n",
       "      <td>1</td>\n",
       "      <td>24.7</td>\n",
       "      <td>30</td>\n",
       "      <td>Consultant</td>\n",
       "      <td>...</td>\n",
       "      <td>NaN</td>\n",
       "      <td>NaN</td>\n",
       "      <td>NaN</td>\n",
       "      <td>NaN</td>\n",
       "      <td>NaN</td>\n",
       "      <td>NaN</td>\n",
       "      <td>NaN</td>\n",
       "      <td>NaN</td>\n",
       "      <td>NaN</td>\n",
       "      <td>NaN</td>\n",
       "    </tr>\n",
       "    <tr>\n",
       "      <th>4</th>\n",
       "      <td>16360125-5924</td>\n",
       "      <td>F</td>\n",
       "      <td>Marie Berengar</td>\n",
       "      <td>624840475</td>\n",
       "      <td>1959-04-02</td>\n",
       "      <td>Marié</td>\n",
       "      <td>3</td>\n",
       "      <td>24.7</td>\n",
       "      <td>53</td>\n",
       "      <td>Commercial</td>\n",
       "      <td>...</td>\n",
       "      <td>NaN</td>\n",
       "      <td>NaN</td>\n",
       "      <td>NaN</td>\n",
       "      <td>NaN</td>\n",
       "      <td>NaN</td>\n",
       "      <td>NaN</td>\n",
       "      <td>NaN</td>\n",
       "      <td>NaN</td>\n",
       "      <td>NaN</td>\n",
       "      <td>NaN</td>\n",
       "    </tr>\n",
       "  </tbody>\n",
       "</table>\n",
       "<p>5 rows × 37 columns</p>\n",
       "</div>"
      ],
      "text/plain": [
       "      id_salarié Sexe            Prénom/Nom  Telephone Date_naissance  \\\n",
       "0  16920105-1209    F      Solenne Delannoy  607958599     1955-07-07   \n",
       "1  16661123-8764    H       Nicolas Jaccoud  660029842     1970-09-22   \n",
       "2  16230718-4297    F     Alexandra Auguste  629910592     1965-03-01   \n",
       "3  16130305-6954    F  Marie-Claire Besnard  685888970     1963-09-02   \n",
       "4  16360125-5924    F        Marie Berengar  624840475     1959-04-02   \n",
       "\n",
       "    Etat Civil  Enfants  Ancienneté_an  Distance domicile/Travail  \\\n",
       "0  Célibataire        1           25.0                         58   \n",
       "1  Célibataire        3           24.9                         62   \n",
       "2        Marié        1           24.8                         44   \n",
       "3          NaN        1           24.7                         30   \n",
       "4        Marié        3           24.7                         53   \n",
       "\n",
       "           Service  ... Unnamed: 16  Unnamed: 17 Unnamed: 18  Unnamed: 19  \\\n",
       "0       Consultant  ...         NaN          NaN         NaN          NaN   \n",
       "1       Commercial  ...         NaN          NaN         NaN          NaN   \n",
       "2  Compta Finances  ...         NaN          NaN         NaN          NaN   \n",
       "3       Consultant  ...         NaN          NaN         NaN          NaN   \n",
       "4       Commercial  ...         NaN          NaN         NaN          NaN   \n",
       "\n",
       "   Unnamed: 20  Unnamed: 21  Unnamed: 22  Unnamed: 23  Unnamed: 24  \\\n",
       "0          NaN          NaN          NaN          NaN          NaN   \n",
       "1          NaN          NaN          NaN          NaN          NaN   \n",
       "2          NaN          NaN          NaN          NaN          NaN   \n",
       "3          NaN          NaN          NaN          NaN          NaN   \n",
       "4          NaN          NaN          NaN          NaN          NaN   \n",
       "\n",
       "   Unnamed: 25  \n",
       "0          NaN  \n",
       "1          NaN  \n",
       "2          NaN  \n",
       "3          NaN  \n",
       "4          NaN  \n",
       "\n",
       "[5 rows x 37 columns]"
      ]
     },
     "execution_count": 9,
     "metadata": {},
     "output_type": "execute_result"
    }
   ],
   "source": [
    "df_final = pd.merge(salaires, infos_pro, on='id_salarié', how=\"inner\")\n",
    "df_final = pd.merge(df_final, remuneration, on='id_salarié', how=\"inner\")\n",
    "\n",
    "df_final.head(5)"
   ]
  },
  {
   "cell_type": "code",
   "execution_count": 46,
   "id": "06676cef",
   "metadata": {
    "scrolled": true
   },
   "outputs": [
    {
     "data": {
      "text/plain": [
       "(256, 18)"
      ]
     },
     "execution_count": 46,
     "metadata": {},
     "output_type": "execute_result"
    }
   ],
   "source": [
    "df_final.shape"
   ]
  },
  {
   "cell_type": "code",
   "execution_count": 52,
   "id": "2538c86f",
   "metadata": {},
   "outputs": [
    {
     "data": {
      "text/plain": [
       "id_salarié                           object\n",
       "Sexe                                 object\n",
       "Prénom/Nom                           object\n",
       "Telephone                             int64\n",
       "Date_naissance               datetime64[ns]\n",
       "Etat Civil                           object\n",
       "Enfants                               int64\n",
       "Ancienneté_an                       float64\n",
       "Distance domicile/Travail             int64\n",
       "Service                              object\n",
       "Work_accident                        object\n",
       "Niveau de satisfaction                int64\n",
       "Contrat                              object\n",
       "Durée hebdo                         float64\n",
       "Salaire base mensuel                float64\n",
       "%variable_moyen                     float64\n",
       "Augmentation                        float64\n",
       "Promotion                           float64\n",
       "dtype: object"
      ]
     },
     "execution_count": 52,
     "metadata": {},
     "output_type": "execute_result"
    }
   ],
   "source": [
    "df_final.dtypes"
   ]
  },
  {
   "cell_type": "markdown",
   "id": "36a1b036",
   "metadata": {},
   "source": [
    "#### 3 - Anonymisation des données sensibles\n",
    "\n",
    "Nous remarquons de l'analyse et la table finale que les colonnes contenant des informations sensibles sur les employés sont :\n",
    "* id_salarié\n",
    "* Prénom/Nom\n",
    "* Telephone\n",
    "* Date_naissance --> elle sera utilisée pour générer l'information âge\n",
    "\n",
    "Pour respecter les consignes rgpd, nous allons procéder à l'anonymisation de cette table. Pour cela, nous choisissons l'option de supprimer les colonnes citées au-dessus car non seulement elles nous ne permettent pas d'être rgpd conforme mais aussi elles ne vont pas apporter une information utile pour le diagnostic à fournir au client."
   ]
  },
  {
   "cell_type": "code",
   "execution_count": 10,
   "id": "8b7b8275",
   "metadata": {
    "scrolled": true
   },
   "outputs": [
    {
     "data": {
      "text/html": [
       "<div>\n",
       "<style scoped>\n",
       "    .dataframe tbody tr th:only-of-type {\n",
       "        vertical-align: middle;\n",
       "    }\n",
       "\n",
       "    .dataframe tbody tr th {\n",
       "        vertical-align: top;\n",
       "    }\n",
       "\n",
       "    .dataframe thead th {\n",
       "        text-align: right;\n",
       "    }\n",
       "</style>\n",
       "<table border=\"1\" class=\"dataframe\">\n",
       "  <thead>\n",
       "    <tr style=\"text-align: right;\">\n",
       "      <th></th>\n",
       "      <th>id_salarié</th>\n",
       "      <th>Sexe</th>\n",
       "      <th>Prénom/Nom</th>\n",
       "      <th>Telephone</th>\n",
       "      <th>Date_naissance</th>\n",
       "      <th>Etat Civil</th>\n",
       "      <th>Enfants</th>\n",
       "      <th>Ancienneté_an</th>\n",
       "      <th>Distance domicile/Travail</th>\n",
       "      <th>Service</th>\n",
       "      <th>...</th>\n",
       "      <th>Unnamed: 17</th>\n",
       "      <th>Unnamed: 18</th>\n",
       "      <th>Unnamed: 19</th>\n",
       "      <th>Unnamed: 20</th>\n",
       "      <th>Unnamed: 21</th>\n",
       "      <th>Unnamed: 22</th>\n",
       "      <th>Unnamed: 23</th>\n",
       "      <th>Unnamed: 24</th>\n",
       "      <th>Unnamed: 25</th>\n",
       "      <th>age</th>\n",
       "    </tr>\n",
       "  </thead>\n",
       "  <tbody>\n",
       "    <tr>\n",
       "      <th>0</th>\n",
       "      <td>16920105-1209</td>\n",
       "      <td>F</td>\n",
       "      <td>Solenne Delannoy</td>\n",
       "      <td>607958599</td>\n",
       "      <td>1955-07-07</td>\n",
       "      <td>Célibataire</td>\n",
       "      <td>1</td>\n",
       "      <td>25.0</td>\n",
       "      <td>58</td>\n",
       "      <td>Consultant</td>\n",
       "      <td>...</td>\n",
       "      <td>NaN</td>\n",
       "      <td>NaN</td>\n",
       "      <td>NaN</td>\n",
       "      <td>NaN</td>\n",
       "      <td>NaN</td>\n",
       "      <td>NaN</td>\n",
       "      <td>NaN</td>\n",
       "      <td>NaN</td>\n",
       "      <td>NaN</td>\n",
       "      <td>67</td>\n",
       "    </tr>\n",
       "    <tr>\n",
       "      <th>1</th>\n",
       "      <td>16661123-8764</td>\n",
       "      <td>H</td>\n",
       "      <td>Nicolas Jaccoud</td>\n",
       "      <td>660029842</td>\n",
       "      <td>1970-09-22</td>\n",
       "      <td>Célibataire</td>\n",
       "      <td>3</td>\n",
       "      <td>24.9</td>\n",
       "      <td>62</td>\n",
       "      <td>Commercial</td>\n",
       "      <td>...</td>\n",
       "      <td>NaN</td>\n",
       "      <td>NaN</td>\n",
       "      <td>NaN</td>\n",
       "      <td>NaN</td>\n",
       "      <td>NaN</td>\n",
       "      <td>NaN</td>\n",
       "      <td>NaN</td>\n",
       "      <td>NaN</td>\n",
       "      <td>NaN</td>\n",
       "      <td>52</td>\n",
       "    </tr>\n",
       "    <tr>\n",
       "      <th>2</th>\n",
       "      <td>16230718-4297</td>\n",
       "      <td>F</td>\n",
       "      <td>Alexandra Auguste</td>\n",
       "      <td>629910592</td>\n",
       "      <td>1965-03-01</td>\n",
       "      <td>Marié</td>\n",
       "      <td>1</td>\n",
       "      <td>24.8</td>\n",
       "      <td>44</td>\n",
       "      <td>Compta Finances</td>\n",
       "      <td>...</td>\n",
       "      <td>NaN</td>\n",
       "      <td>NaN</td>\n",
       "      <td>NaN</td>\n",
       "      <td>NaN</td>\n",
       "      <td>NaN</td>\n",
       "      <td>NaN</td>\n",
       "      <td>NaN</td>\n",
       "      <td>NaN</td>\n",
       "      <td>NaN</td>\n",
       "      <td>57</td>\n",
       "    </tr>\n",
       "    <tr>\n",
       "      <th>3</th>\n",
       "      <td>16130305-6954</td>\n",
       "      <td>F</td>\n",
       "      <td>Marie-Claire Besnard</td>\n",
       "      <td>685888970</td>\n",
       "      <td>1963-09-02</td>\n",
       "      <td>NaN</td>\n",
       "      <td>1</td>\n",
       "      <td>24.7</td>\n",
       "      <td>30</td>\n",
       "      <td>Consultant</td>\n",
       "      <td>...</td>\n",
       "      <td>NaN</td>\n",
       "      <td>NaN</td>\n",
       "      <td>NaN</td>\n",
       "      <td>NaN</td>\n",
       "      <td>NaN</td>\n",
       "      <td>NaN</td>\n",
       "      <td>NaN</td>\n",
       "      <td>NaN</td>\n",
       "      <td>NaN</td>\n",
       "      <td>59</td>\n",
       "    </tr>\n",
       "    <tr>\n",
       "      <th>4</th>\n",
       "      <td>16360125-5924</td>\n",
       "      <td>F</td>\n",
       "      <td>Marie Berengar</td>\n",
       "      <td>624840475</td>\n",
       "      <td>1959-04-02</td>\n",
       "      <td>Marié</td>\n",
       "      <td>3</td>\n",
       "      <td>24.7</td>\n",
       "      <td>53</td>\n",
       "      <td>Commercial</td>\n",
       "      <td>...</td>\n",
       "      <td>NaN</td>\n",
       "      <td>NaN</td>\n",
       "      <td>NaN</td>\n",
       "      <td>NaN</td>\n",
       "      <td>NaN</td>\n",
       "      <td>NaN</td>\n",
       "      <td>NaN</td>\n",
       "      <td>NaN</td>\n",
       "      <td>NaN</td>\n",
       "      <td>63</td>\n",
       "    </tr>\n",
       "  </tbody>\n",
       "</table>\n",
       "<p>5 rows × 38 columns</p>\n",
       "</div>"
      ],
      "text/plain": [
       "      id_salarié Sexe            Prénom/Nom  Telephone Date_naissance  \\\n",
       "0  16920105-1209    F      Solenne Delannoy  607958599     1955-07-07   \n",
       "1  16661123-8764    H       Nicolas Jaccoud  660029842     1970-09-22   \n",
       "2  16230718-4297    F     Alexandra Auguste  629910592     1965-03-01   \n",
       "3  16130305-6954    F  Marie-Claire Besnard  685888970     1963-09-02   \n",
       "4  16360125-5924    F        Marie Berengar  624840475     1959-04-02   \n",
       "\n",
       "    Etat Civil  Enfants  Ancienneté_an  Distance domicile/Travail  \\\n",
       "0  Célibataire        1           25.0                         58   \n",
       "1  Célibataire        3           24.9                         62   \n",
       "2        Marié        1           24.8                         44   \n",
       "3          NaN        1           24.7                         30   \n",
       "4        Marié        3           24.7                         53   \n",
       "\n",
       "           Service  ... Unnamed: 17  Unnamed: 18 Unnamed: 19  Unnamed: 20  \\\n",
       "0       Consultant  ...         NaN          NaN         NaN          NaN   \n",
       "1       Commercial  ...         NaN          NaN         NaN          NaN   \n",
       "2  Compta Finances  ...         NaN          NaN         NaN          NaN   \n",
       "3       Consultant  ...         NaN          NaN         NaN          NaN   \n",
       "4       Commercial  ...         NaN          NaN         NaN          NaN   \n",
       "\n",
       "   Unnamed: 21  Unnamed: 22  Unnamed: 23  Unnamed: 24  Unnamed: 25  age  \n",
       "0          NaN          NaN          NaN          NaN          NaN   67  \n",
       "1          NaN          NaN          NaN          NaN          NaN   52  \n",
       "2          NaN          NaN          NaN          NaN          NaN   57  \n",
       "3          NaN          NaN          NaN          NaN          NaN   59  \n",
       "4          NaN          NaN          NaN          NaN          NaN   63  \n",
       "\n",
       "[5 rows x 38 columns]"
      ]
     },
     "execution_count": 10,
     "metadata": {},
     "output_type": "execute_result"
    }
   ],
   "source": [
    "df_final[\"age\"] = df_final[\"Date_naissance\"].apply(lambda x:age(x))\n",
    "df_final.head(5)"
   ]
  },
  {
   "cell_type": "code",
   "execution_count": 55,
   "id": "393855ae",
   "metadata": {},
   "outputs": [
    {
     "data": {
      "text/plain": [
       "Index(['id_salarié', 'Sexe', 'Prénom/Nom', 'Telephone', 'Date_naissance',\n",
       "       'Etat Civil', 'Enfants', 'Ancienneté_an', 'Distance domicile/Travail',\n",
       "       'Service', 'Work_accident', 'Niveau de satisfaction', 'Contrat',\n",
       "       'Durée hebdo', 'Salaire base mensuel', '%variable_moyen',\n",
       "       'Augmentation', 'Promotion', 'age'],\n",
       "      dtype='object')"
      ]
     },
     "execution_count": 55,
     "metadata": {},
     "output_type": "execute_result"
    }
   ],
   "source": [
    "df_final.columns"
   ]
  },
  {
   "cell_type": "code",
   "execution_count": 11,
   "id": "525ea7d7",
   "metadata": {},
   "outputs": [],
   "source": [
    "## on supprime les colonnes contenant\n",
    "cols_sensitive_data = ['id_salarié','Prénom/Nom', 'Telephone', 'Date_naissance']\n",
    "df_final.drop(cols_sensitive_data,axis=1,inplace=True)"
   ]
  },
  {
   "cell_type": "code",
   "execution_count": 57,
   "id": "764b65d7",
   "metadata": {
    "scrolled": true
   },
   "outputs": [
    {
     "data": {
      "text/plain": [
       "Index(['Sexe', 'Etat Civil', 'Enfants', 'Ancienneté_an',\n",
       "       'Distance domicile/Travail', 'Service', 'Work_accident',\n",
       "       'Niveau de satisfaction', 'Contrat', 'Durée hebdo',\n",
       "       'Salaire base mensuel', '%variable_moyen', 'Augmentation', 'Promotion',\n",
       "       'age'],\n",
       "      dtype='object')"
      ]
     },
     "execution_count": 57,
     "metadata": {},
     "output_type": "execute_result"
    }
   ],
   "source": [
    "df_final.columns"
   ]
  },
  {
   "cell_type": "code",
   "execution_count": 69,
   "id": "9cf19e17",
   "metadata": {
    "scrolled": true
   },
   "outputs": [],
   "source": [
    "df_final.to_csv(\"informations_generales_salaries.csv\")"
   ]
  },
  {
   "cell_type": "code",
   "execution_count": 67,
   "id": "a17e92c4",
   "metadata": {},
   "outputs": [
    {
     "data": {
      "text/plain": [
       "Sexe\n",
       "F    51.472000\n",
       "H    51.465649\n",
       "Name: age, dtype: float64"
      ]
     },
     "execution_count": 67,
     "metadata": {},
     "output_type": "execute_result"
    }
   ],
   "source": [
    "df_final.groupby(\"Sexe\")[\"age\"].mean()"
   ]
  },
  {
   "cell_type": "markdown",
   "id": "db0c2f9d",
   "metadata": {},
   "source": [
    "## Rapport diagnostique sur l’égalité professionnelle femmes hommes dans l’entreprise\n",
    "\n",
    "Nous allons d'abord regarder la répartition des employés de l'entreprise par sexe, ensuite nous allons se focaliser sur les 5 axes suivants :\n",
    "\n",
    "* Embauche : \n",
    "    * Répartition des employés par sexe et catégorie professionnelle (service dans notre cas)\n",
    "    * Répartition des embauches par typologie des contrats pour femme-homme\n",
    "    \n",
    "* Formation : Répartition du nombre moyen d'heures de travail hebdomadaire par sexe\n",
    "\n",
    "* Promotion : Répartition des employés selon l'anciennté moyenne et le sexe\n",
    "\n",
    "* Répartition des salaires par tranche age et par sexe "
   ]
  },
  {
   "cell_type": "code",
   "execution_count": 90,
   "id": "ee7e1372",
   "metadata": {},
   "outputs": [],
   "source": [
    "df_final[\"Sexe\"] = df_final[\"Sexe\"].apply(lambda x:'Femme' if x==\"F\" else \"Homme\")"
   ]
  },
  {
   "cell_type": "code",
   "execution_count": 98,
   "id": "69f23316",
   "metadata": {},
   "outputs": [],
   "source": [
    "font = {'family': 'serif',\n",
    "        'weight': 'normal',\n",
    "        'color' : 'gray',\n",
    "        'size': 10,\n",
    "        }"
   ]
  },
  {
   "cell_type": "code",
   "execution_count": 102,
   "id": "1e364b92",
   "metadata": {
    "scrolled": false
   },
   "outputs": [
    {
     "data": {
      "image/png": "[encoded data removed]",
      "text/plain": [
       "<Figure size 1000x600 with 1 Axes>"
      ]
     },
     "metadata": {},
     "output_type": "display_data"
    }
   ],
   "source": [
    "labels = df_final[\"Sexe\"].unique().tolist()\n",
    "data = df_final[\"Sexe\"].value_counts().values.tolist()\n",
    "\n",
    "palette = sns.color_palette(\"Set2\")\n",
    "\n",
    "def func(pct, allvals):\n",
    "    absolute = int(np.round(pct/100.*np.sum(allvals)))\n",
    "    return \"{:.1f}%\\n{:d} personnes\".format(pct, absolute)\n",
    "\n",
    "\n",
    "#create pie chart\n",
    "fig = plt.figure(figsize=(10,6))\n",
    "\n",
    "wedges, texts, autotexts = plt.pie(data, colors=palette, autopct=lambda pct: func(pct, data),\n",
    "                                  textprops=dict(color=\"w\"), startangle=90)\n",
    "\n",
    "plt.legend(wedges, labels,\n",
    "          title=\"Sexe\",\n",
    "          loc=\"center left\",\n",
    "          bbox_to_anchor=(1, 0, 0.5, 1))\n",
    "\n",
    "plt.title(\"Répartition des employés de l'entreprise par sexe\", fontdict=font)\n",
    "plt.show()"
   ]
  },
  {
   "cell_type": "markdown",
   "id": "c6a00730",
   "metadata": {},
   "source": [
    "#### indicateur 1 - Répartition des employés par sexe et catégorie professionnelle (service dans notre cas)"
   ]
  },
  {
   "cell_type": "code",
   "execution_count": 120,
   "id": "1eb2d3bf",
   "metadata": {
    "scrolled": true
   },
   "outputs": [
    {
     "data": {
      "text/html": [
       "<div>\n",
       "<style scoped>\n",
       "    .dataframe tbody tr th:only-of-type {\n",
       "        vertical-align: middle;\n",
       "    }\n",
       "\n",
       "    .dataframe tbody tr th {\n",
       "        vertical-align: top;\n",
       "    }\n",
       "\n",
       "    .dataframe thead th {\n",
       "        text-align: right;\n",
       "    }\n",
       "</style>\n",
       "<table border=\"1\" class=\"dataframe\">\n",
       "  <thead>\n",
       "    <tr style=\"text-align: right;\">\n",
       "      <th></th>\n",
       "      <th>Sexe</th>\n",
       "      <th>Service</th>\n",
       "      <th>nombre_de_personnes</th>\n",
       "    </tr>\n",
       "  </thead>\n",
       "  <tbody>\n",
       "    <tr>\n",
       "      <th>0</th>\n",
       "      <td>Femme</td>\n",
       "      <td>Consultant</td>\n",
       "      <td>30</td>\n",
       "    </tr>\n",
       "    <tr>\n",
       "      <th>1</th>\n",
       "      <td>Femme</td>\n",
       "      <td>Commercial</td>\n",
       "      <td>29</td>\n",
       "    </tr>\n",
       "    <tr>\n",
       "      <th>2</th>\n",
       "      <td>Femme</td>\n",
       "      <td>Compta Finances</td>\n",
       "      <td>24</td>\n",
       "    </tr>\n",
       "    <tr>\n",
       "      <th>3</th>\n",
       "      <td>Femme</td>\n",
       "      <td>RH</td>\n",
       "      <td>24</td>\n",
       "    </tr>\n",
       "    <tr>\n",
       "      <th>4</th>\n",
       "      <td>Femme</td>\n",
       "      <td>Marketing</td>\n",
       "      <td>15</td>\n",
       "    </tr>\n",
       "    <tr>\n",
       "      <th>5</th>\n",
       "      <td>Femme</td>\n",
       "      <td>R&amp;D</td>\n",
       "      <td>3</td>\n",
       "    </tr>\n",
       "    <tr>\n",
       "      <th>6</th>\n",
       "      <td>Homme</td>\n",
       "      <td>Consultant</td>\n",
       "      <td>39</td>\n",
       "    </tr>\n",
       "    <tr>\n",
       "      <th>7</th>\n",
       "      <td>Homme</td>\n",
       "      <td>Commercial</td>\n",
       "      <td>23</td>\n",
       "    </tr>\n",
       "    <tr>\n",
       "      <th>8</th>\n",
       "      <td>Homme</td>\n",
       "      <td>Marketing</td>\n",
       "      <td>21</td>\n",
       "    </tr>\n",
       "    <tr>\n",
       "      <th>9</th>\n",
       "      <td>Homme</td>\n",
       "      <td>RH</td>\n",
       "      <td>19</td>\n",
       "    </tr>\n",
       "    <tr>\n",
       "      <th>10</th>\n",
       "      <td>Homme</td>\n",
       "      <td>Compta Finances</td>\n",
       "      <td>17</td>\n",
       "    </tr>\n",
       "    <tr>\n",
       "      <th>11</th>\n",
       "      <td>Homme</td>\n",
       "      <td>R&amp;D</td>\n",
       "      <td>12</td>\n",
       "    </tr>\n",
       "  </tbody>\n",
       "</table>\n",
       "</div>"
      ],
      "text/plain": [
       "     Sexe          Service  nombre_de_personnes\n",
       "0   Femme       Consultant                   30\n",
       "1   Femme       Commercial                   29\n",
       "2   Femme  Compta Finances                   24\n",
       "3   Femme               RH                   24\n",
       "4   Femme        Marketing                   15\n",
       "5   Femme              R&D                    3\n",
       "6   Homme       Consultant                   39\n",
       "7   Homme       Commercial                   23\n",
       "8   Homme        Marketing                   21\n",
       "9   Homme               RH                   19\n",
       "10  Homme  Compta Finances                   17\n",
       "11  Homme              R&D                   12"
      ]
     },
     "execution_count": 120,
     "metadata": {},
     "output_type": "execute_result"
    }
   ],
   "source": [
    "## On regarde d'abord les données sur les services par sexe\n",
    "df_service_per_sexe = generate_df(df_final,\"Sexe\",\"Service\")\n",
    "df_service_per_sexe"
   ]
  },
  {
   "cell_type": "code",
   "execution_count": 115,
   "id": "f7784f8c",
   "metadata": {
    "scrolled": false
   },
   "outputs": [
    {
     "data": {
      "text/plain": [
       "Text(0.5, 1.0, 'Répartition des services par sexe')"
      ]
     },
     "execution_count": 115,
     "metadata": {},
     "output_type": "execute_result"
    },
    {
     "data": {
      "image/png": "[encoded data removed]",
      "text/plain": [
       "<Figure size 669.375x500 with 1 Axes>"
      ]
     },
     "metadata": {},
     "output_type": "display_data"
    }
   ],
   "source": [
    "x = 'Sexe'\n",
    "y = 'Service'\n",
    "\n",
    "(df_final\n",
    ".groupby(x)[y]\n",
    ".value_counts(normalize=True)\n",
    ".mul(100)\n",
    ".rename('percent')\n",
    ".reset_index()\n",
    ".pipe((sns.catplot,'data'), x=x,y='percent',hue=y,kind='bar', legend=True, palette=palette))\n",
    "\n",
    "plt.title('Répartition des services par sexe', fontdict=font)"
   ]
  },
  {
   "cell_type": "markdown",
   "id": "ce814fe4",
   "metadata": {},
   "source": [
    "On remarque que sur les services, l'égalité homme - femme n'est pas très respecté. Nous avons des services où les hommes sont plus présents que les femmes et inversément"
   ]
  },
  {
   "cell_type": "markdown",
   "id": "d992b8fb",
   "metadata": {},
   "source": [
    "#### indicateur 2 - Répartition des embauches par typologie des contrats pour femme-homme"
   ]
  },
  {
   "cell_type": "code",
   "execution_count": 121,
   "id": "aaec1390",
   "metadata": {},
   "outputs": [
    {
     "data": {
      "text/html": [
       "<div>\n",
       "<style scoped>\n",
       "    .dataframe tbody tr th:only-of-type {\n",
       "        vertical-align: middle;\n",
       "    }\n",
       "\n",
       "    .dataframe tbody tr th {\n",
       "        vertical-align: top;\n",
       "    }\n",
       "\n",
       "    .dataframe thead th {\n",
       "        text-align: right;\n",
       "    }\n",
       "</style>\n",
       "<table border=\"1\" class=\"dataframe\">\n",
       "  <thead>\n",
       "    <tr style=\"text-align: right;\">\n",
       "      <th></th>\n",
       "      <th>Sexe</th>\n",
       "      <th>Contrat</th>\n",
       "      <th>nombre_de_personnes</th>\n",
       "    </tr>\n",
       "  </thead>\n",
       "  <tbody>\n",
       "    <tr>\n",
       "      <th>0</th>\n",
       "      <td>Femme</td>\n",
       "      <td>CDI</td>\n",
       "      <td>114</td>\n",
       "    </tr>\n",
       "    <tr>\n",
       "      <th>1</th>\n",
       "      <td>Femme</td>\n",
       "      <td>CDD</td>\n",
       "      <td>11</td>\n",
       "    </tr>\n",
       "    <tr>\n",
       "      <th>2</th>\n",
       "      <td>Homme</td>\n",
       "      <td>CDI</td>\n",
       "      <td>126</td>\n",
       "    </tr>\n",
       "    <tr>\n",
       "      <th>3</th>\n",
       "      <td>Homme</td>\n",
       "      <td>CDD</td>\n",
       "      <td>5</td>\n",
       "    </tr>\n",
       "  </tbody>\n",
       "</table>\n",
       "</div>"
      ],
      "text/plain": [
       "    Sexe Contrat  nombre_de_personnes\n",
       "0  Femme     CDI                  114\n",
       "1  Femme     CDD                   11\n",
       "2  Homme     CDI                  126\n",
       "3  Homme     CDD                    5"
      ]
     },
     "execution_count": 121,
     "metadata": {},
     "output_type": "execute_result"
    }
   ],
   "source": [
    "cnt_per_sexe = generate_df(df_final,\"Sexe\",\"Contrat\")\n",
    "cnt_per_sexe"
   ]
  },
  {
   "cell_type": "code",
   "execution_count": 158,
   "id": "1b6e7096",
   "metadata": {},
   "outputs": [
    {
     "data": {
      "image/png": "[encoded data removed]",
      "text/plain": [
       "<Figure size 1800x1000 with 2 Axes>"
      ]
     },
     "metadata": {},
     "output_type": "display_data"
    }
   ],
   "source": [
    "plt.figure(figsize=[18,10])\n",
    "\n",
    "for i,c in enumerate([\"CDD\",\"CDI\"]):\n",
    "\n",
    "    plt.subplot(1, 2, i+1)\n",
    "    \n",
    "    tmp=cnt_per_sexe[cnt_per_sexe[\"Contrat\"]==c]\n",
    "    \n",
    "    labels = tmp[\"Sexe\"].unique()\n",
    "    data = tmp[\"nombre_de_personnes\"]\n",
    "    \n",
    "    plt.pie(data,colors=palette, autopct='%.0f%%')\n",
    "    \n",
    "    plt.legend(labels, loc=\"right\",bbox_to_anchor=(1, 0.9))\n",
    "\n",
    "    plt.title(\"Répartition de sexe par \" + c)\n",
    "\n",
    "\n",
    "plt.show();"
   ]
  },
  {
   "cell_type": "markdown",
   "id": "5cd4a213",
   "metadata": {},
   "source": [
    "On remarque que pour les CDI, il y a une répartition presque équitable entre les deux sexes.\n",
    "Contrairement au CDD où il y a une sur-représentation des femmes."
   ]
  },
  {
   "cell_type": "markdown",
   "id": "ec3868e5",
   "metadata": {},
   "source": [
    "#### indicateur 3 - Répartition du nombre moyen d'heures de travail hebdomadaire par sexe"
   ]
  },
  {
   "cell_type": "code",
   "execution_count": 175,
   "id": "5ab7728c",
   "metadata": {},
   "outputs": [
    {
     "data": {
      "text/html": [
       "<div>\n",
       "<style scoped>\n",
       "    .dataframe tbody tr th:only-of-type {\n",
       "        vertical-align: middle;\n",
       "    }\n",
       "\n",
       "    .dataframe tbody tr th {\n",
       "        vertical-align: top;\n",
       "    }\n",
       "\n",
       "    .dataframe thead th {\n",
       "        text-align: right;\n",
       "    }\n",
       "</style>\n",
       "<table border=\"1\" class=\"dataframe\">\n",
       "  <thead>\n",
       "    <tr style=\"text-align: right;\">\n",
       "      <th></th>\n",
       "      <th>Sexe</th>\n",
       "      <th>Durée hebdo moyenne</th>\n",
       "    </tr>\n",
       "  </thead>\n",
       "  <tbody>\n",
       "    <tr>\n",
       "      <th>0</th>\n",
       "      <td>Femme</td>\n",
       "      <td>33.96000</td>\n",
       "    </tr>\n",
       "    <tr>\n",
       "      <th>1</th>\n",
       "      <td>Homme</td>\n",
       "      <td>33.78626</td>\n",
       "    </tr>\n",
       "  </tbody>\n",
       "</table>\n",
       "</div>"
      ],
      "text/plain": [
       "    Sexe  Durée hebdo moyenne\n",
       "0  Femme             33.96000\n",
       "1  Homme             33.78626"
      ]
     },
     "execution_count": 175,
     "metadata": {},
     "output_type": "execute_result"
    }
   ],
   "source": [
    "t = generate_df_mean(df_final,\"Sexe\",\"Durée hebdo\")\n",
    "t"
   ]
  },
  {
   "cell_type": "code",
   "execution_count": 179,
   "id": "c44b30d9",
   "metadata": {},
   "outputs": [
    {
     "data": {
      "image/png": "[encoded data removed]",
      "text/plain": [
       "<Figure size 1000x400 with 1 Axes>"
      ]
     },
     "metadata": {},
     "output_type": "display_data"
    }
   ],
   "source": [
    "plt.figure(figsize=[10, 4])\n",
    "sns.barplot(\"Sexe\",\"Durée hebdo moyenne\",data=t)\n",
    "plt.title(\"Durée moyenne (en h) hebdomadaire de travail par sexe\", fontdict=font)\n",
    "plt.show()"
   ]
  },
  {
   "cell_type": "markdown",
   "id": "24a83b28",
   "metadata": {},
   "source": [
    "On remarque que sur ce niveau, il y a une équitée femme homme"
   ]
  },
  {
   "cell_type": "markdown",
   "id": "1241a149",
   "metadata": {},
   "source": [
    "#### indicateur 4 - Répartition des employés selon l'anciennté moyenne et le sexe"
   ]
  },
  {
   "cell_type": "code",
   "execution_count": 180,
   "id": "4fb34822",
   "metadata": {
    "scrolled": false
   },
   "outputs": [
    {
     "data": {
      "text/plain": [
       "Text(0.5, 1.0, 'Ancienneté moyenne par sexe')"
      ]
     },
     "execution_count": 180,
     "metadata": {},
     "output_type": "execute_result"
    },
    {
     "data": {
      "image/png": "[encoded data removed]",
      "text/plain": [
       "<Figure size 640x480 with 1 Axes>"
      ]
     },
     "metadata": {},
     "output_type": "display_data"
    }
   ],
   "source": [
    "x = 'Sexe'\n",
    "y = 'Ancienneté_an moyenne'\n",
    "\n",
    "sns.barplot(data=generate_df_mean(df_final,\"Sexe\",\"Ancienneté_an\"),x=x,y=y, palette=palette)\n",
    "plt.title('Ancienneté moyenne par sexe', fontdict=font)"
   ]
  },
  {
   "cell_type": "markdown",
   "id": "ae225fb4",
   "metadata": {},
   "source": [
    "On remarque qu'il y a une légère différence en terme d'ancienneté moyenne et donc ça peut être expliqué par le fait que l'entreprise embauchait plus d'hommes au départ mais par la suite elle a fait en sorte d'équilibrer à l'embauche entre les 2 sexes"
   ]
  },
  {
   "cell_type": "markdown",
   "id": "47492ed4",
   "metadata": {},
   "source": [
    "#### indicateur 5 - Répartition des salaires par tranche age et par sexe \n",
    "Pour cette partie on va considérer les tranches d'âge commençant à 30 et arrivant à 70 (d'après l'analyse ci-dessous)"
   ]
  },
  {
   "cell_type": "code",
   "execution_count": 181,
   "id": "2bb43752",
   "metadata": {},
   "outputs": [
    {
     "data": {
      "text/plain": [
       "31"
      ]
     },
     "execution_count": 181,
     "metadata": {},
     "output_type": "execute_result"
    }
   ],
   "source": [
    "df_final['age'].min()"
   ]
  },
  {
   "cell_type": "code",
   "execution_count": 182,
   "id": "e0c9a24e",
   "metadata": {},
   "outputs": [
    {
     "data": {
      "text/plain": [
       "68"
      ]
     },
     "execution_count": 182,
     "metadata": {},
     "output_type": "execute_result"
    }
   ],
   "source": [
    "df_final['age'].max()"
   ]
  },
  {
   "cell_type": "code",
   "execution_count": 189,
   "id": "67f0a351",
   "metadata": {},
   "outputs": [],
   "source": [
    "def generate_tranche_age(x):\n",
    "    a = int(str(x)[0])\n",
    "    return '['+str(a)+'0,'+str(a+1)+'0]'\n",
    "\n",
    "df_final[\"tranche_age\"] = df_final[\"age\"].apply(lambda x:generate_tranche_age(x))"
   ]
  },
  {
   "cell_type": "code",
   "execution_count": 196,
   "id": "690a01b5",
   "metadata": {},
   "outputs": [
    {
     "data": {
      "text/html": [
       "<div>\n",
       "<style scoped>\n",
       "    .dataframe tbody tr th:only-of-type {\n",
       "        vertical-align: middle;\n",
       "    }\n",
       "\n",
       "    .dataframe tbody tr th {\n",
       "        vertical-align: top;\n",
       "    }\n",
       "\n",
       "    .dataframe thead th {\n",
       "        text-align: right;\n",
       "    }\n",
       "</style>\n",
       "<table border=\"1\" class=\"dataframe\">\n",
       "  <thead>\n",
       "    <tr style=\"text-align: right;\">\n",
       "      <th></th>\n",
       "      <th></th>\n",
       "      <th>tranche_age</th>\n",
       "    </tr>\n",
       "    <tr>\n",
       "      <th>Sexe</th>\n",
       "      <th>tranche_age</th>\n",
       "      <th></th>\n",
       "    </tr>\n",
       "  </thead>\n",
       "  <tbody>\n",
       "    <tr>\n",
       "      <th rowspan=\"4\" valign=\"top\">Femme</th>\n",
       "      <th>[50,60]</th>\n",
       "      <td>49</td>\n",
       "    </tr>\n",
       "    <tr>\n",
       "      <th>[40,50]</th>\n",
       "      <td>35</td>\n",
       "    </tr>\n",
       "    <tr>\n",
       "      <th>[60,70]</th>\n",
       "      <td>26</td>\n",
       "    </tr>\n",
       "    <tr>\n",
       "      <th>[30,40]</th>\n",
       "      <td>15</td>\n",
       "    </tr>\n",
       "    <tr>\n",
       "      <th rowspan=\"4\" valign=\"top\">Homme</th>\n",
       "      <th>[50,60]</th>\n",
       "      <td>49</td>\n",
       "    </tr>\n",
       "    <tr>\n",
       "      <th>[40,50]</th>\n",
       "      <td>40</td>\n",
       "    </tr>\n",
       "    <tr>\n",
       "      <th>[60,70]</th>\n",
       "      <td>27</td>\n",
       "    </tr>\n",
       "    <tr>\n",
       "      <th>[30,40]</th>\n",
       "      <td>15</td>\n",
       "    </tr>\n",
       "  </tbody>\n",
       "</table>\n",
       "</div>"
      ],
      "text/plain": [
       "                   tranche_age\n",
       "Sexe  tranche_age             \n",
       "Femme [50,60]               49\n",
       "      [40,50]               35\n",
       "      [60,70]               26\n",
       "      [30,40]               15\n",
       "Homme [50,60]               49\n",
       "      [40,50]               40\n",
       "      [60,70]               27\n",
       "      [30,40]               15"
      ]
     },
     "execution_count": 196,
     "metadata": {},
     "output_type": "execute_result"
    }
   ],
   "source": []
  },
  {
   "cell_type": "code",
   "execution_count": 199,
   "id": "3b00e9da",
   "metadata": {},
   "outputs": [
    {
     "data": {
      "text/html": [
       "<div>\n",
       "<style scoped>\n",
       "    .dataframe tbody tr th:only-of-type {\n",
       "        vertical-align: middle;\n",
       "    }\n",
       "\n",
       "    .dataframe tbody tr th {\n",
       "        vertical-align: top;\n",
       "    }\n",
       "\n",
       "    .dataframe thead th {\n",
       "        text-align: right;\n",
       "    }\n",
       "</style>\n",
       "<table border=\"1\" class=\"dataframe\">\n",
       "  <thead>\n",
       "    <tr style=\"text-align: right;\">\n",
       "      <th></th>\n",
       "      <th>tranche_age</th>\n",
       "      <th>Femme</th>\n",
       "      <th>Homme</th>\n",
       "    </tr>\n",
       "  </thead>\n",
       "  <tbody>\n",
       "    <tr>\n",
       "      <th>0</th>\n",
       "      <td>[50,60]</td>\n",
       "      <td>49</td>\n",
       "      <td>-49</td>\n",
       "    </tr>\n",
       "    <tr>\n",
       "      <th>1</th>\n",
       "      <td>[40,50]</td>\n",
       "      <td>35</td>\n",
       "      <td>-40</td>\n",
       "    </tr>\n",
       "    <tr>\n",
       "      <th>2</th>\n",
       "      <td>[60,70]</td>\n",
       "      <td>26</td>\n",
       "      <td>-27</td>\n",
       "    </tr>\n",
       "    <tr>\n",
       "      <th>3</th>\n",
       "      <td>[30,40]</td>\n",
       "      <td>15</td>\n",
       "      <td>-15</td>\n",
       "    </tr>\n",
       "  </tbody>\n",
       "</table>\n",
       "</div>"
      ],
      "text/plain": [
       "  tranche_age  Femme  Homme\n",
       "0     [50,60]     49    -49\n",
       "1     [40,50]     35    -40\n",
       "2     [60,70]     26    -27\n",
       "3     [30,40]     15    -15"
      ]
     },
     "execution_count": 199,
     "metadata": {},
     "output_type": "execute_result"
    }
   ],
   "source": [
    "t=pd.DataFrame(df_final.groupby(\"Sexe\")[\"tranche_age\"].value_counts())\n",
    "t.columns=[\"total\"]\n",
    "t.reset_index(inplace=True)\n",
    "\n",
    "\n",
    "f = t[t[\"Sexe\"]==\"Femme\"][[\"tranche_age\",\"total\"]]\n",
    "f.columns=[\"tranche_age\",\"Femme\"]\n",
    "\n",
    "m = t[t[\"Sexe\"]==\"Homme\"][[\"tranche_age\",\"total\"]]\n",
    "m.columns=[\"tranche_age\",\"Homme\"]\n",
    "\n",
    "t = pd.merge(f,m,on='tranche_age',how='outer')\n",
    "t[\"Homme\"] = t[\"Homme\"]*-1\n",
    "t"
   ]
  },
  {
   "cell_type": "code",
   "execution_count": 205,
   "id": "66e4efde",
   "metadata": {
    "scrolled": false
   },
   "outputs": [
    {
     "data": {
      "text/plain": [
       "([<matplotlib.axis.XTick at 0x18a792d7788>,\n",
       "  <matplotlib.axis.XTick at 0x18a78a75648>,\n",
       "  <matplotlib.axis.XTick at 0x18a78a993c8>,\n",
       "  <matplotlib.axis.XTick at 0x18a7931ef08>,\n",
       "  <matplotlib.axis.XTick at 0x18a79300bc8>],\n",
       " [Text(-50, 0, '50 prs'),\n",
       "  Text(-20, 0, '20 prs'),\n",
       "  Text(0, 0, '0'),\n",
       "  Text(20, 0, '20 prs'),\n",
       "  Text(50, 0, '50 prs')])"
      ]
     },
     "execution_count": 205,
     "metadata": {},
     "output_type": "execute_result"
    },
    {
     "data": {
      "image/png": "[encoded data removed]",
      "text/plain": [
       "<Figure size 640x480 with 1 Axes>"
      ]
     },
     "metadata": {},
     "output_type": "display_data"
    }
   ],
   "source": [
    "ages = [\"[60,70]\",\"[50,60]\",\"[40,50]\",\"[30,40]\"]\n",
    "ax1 = sns.barplot(x='Homme', y='tranche_age', data=t, order=ages, palette=\"Blues\")\n",
    "ax2 = sns.barplot(x='Femme', y='tranche_age', data=t, order=ages, palette=\"Greens\")\n",
    "\n",
    "plt.title(\"Population pyramid for the UK, 2020 estimates\")\n",
    "plt.xlabel(\"Male/Female\")\n",
    "plt.grid()\n",
    "plt.xticks(ticks=[-50, -20, 0, 20, 50],\n",
    "labels=['50 prs', '20 prs', '0', '20 prs', '50 prs'])"
   ]
  },
  {
   "cell_type": "markdown",
   "id": "d54f3b6a",
   "metadata": {},
   "source": [
    "Il y a de très légers différences dans le nombre de personnes par tranche d'âge pour les hommes et les femmes.\n",
    "On peut donc déduire que sur cet indicateur l'entreprise est plutôt conforme."
   ]
  },
  {
   "cell_type": "code",
   "execution_count": null,
   "id": "32119215",
   "metadata": {},
   "outputs": [],
   "source": []
  }
 ],
 "metadata": {
  "kernelspec": {
   "display_name": "Python 3 (ipykernel)",
   "language": "python",
   "name": "python3"
  },
  "language_info": {
   "codemirror_mode": {
    "name": "ipython",
    "version": 3
   },
   "file_extension": ".py",
   "mimetype": "text/x-python",
   "name": "python",
   "nbconvert_exporter": "python",
   "pygments_lexer": "ipython3",
   "version": "3.7.12"
  }
 },
 "nbformat": 4,
 "nbformat_minor": 5
}
